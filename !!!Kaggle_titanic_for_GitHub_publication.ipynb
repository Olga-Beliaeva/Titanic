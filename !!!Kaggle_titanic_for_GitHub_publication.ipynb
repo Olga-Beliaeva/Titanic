{
 "cells": [
  {
   "cell_type": "code",
   "execution_count": 1,
   "id": "federal-constraint",
   "metadata": {},
   "outputs": [],
   "source": [
    "import pandas as pd\n",
    "import numpy as np\n",
    "\n",
    "import seaborn as sns\n",
    "import matplotlib.pyplot as plt\n",
    "from mlxtend.plotting import plot_decision_regions\n",
    "\n",
    "from scipy.stats import uniform\n",
    "from scipy.stats import randint as sp_randint\n",
    "\n",
    "from sklearn import metrics\n",
    "from sklearn import set_config\n",
    "from sklearn.decomposition import PCA\n",
    "from sklearn.impute import SimpleImputer\n",
    "from sklearn.pipeline import Pipeline\n",
    "from sklearn.pipeline import make_pipeline\n",
    "from sklearn.linear_model import LogisticRegression\n",
    "from sklearn.compose import ColumnTransformer\n",
    "from sklearn.tree import DecisionTreeClassifier\n",
    "from sklearn.neural_network import MLPClassifier\n",
    "from sklearn.inspection import permutation_importance\n",
    "from sklearn.neighbors import KNeighborsClassifier\n",
    "from sklearn.compose import make_column_selector as selector\n",
    "from sklearn.discriminant_analysis import LinearDiscriminantAnalysis as LDA\n",
    "from sklearn.preprocessing import LabelEncoder, MinMaxScaler,  StandardScaler, OneHotEncoder\n",
    "from sklearn.metrics import classification_report,accuracy_score, confusion_matrix, f1_score\n",
    "from sklearn.ensemble import RandomForestClassifier, GradientBoostingClassifier, VotingClassifier\n",
    "from sklearn.model_selection import train_test_split, cross_val_score, RandomizedSearchCV, GridSearchCV, StratifiedKFold\n",
    "\n",
    "np.random.seed(0)\n",
    "\n",
    "lb_make = LabelEncoder()\n",
    "K_fold  = StratifiedKFold(n_splits=10)"
   ]
  },
  {
   "cell_type": "markdown",
   "id": "cosmetic-introduction",
   "metadata": {},
   "source": [
    "# **I. PREPROCESSING DATA**"
   ]
  },
  {
   "cell_type": "code",
   "execution_count": 2,
   "id": "cutting-argument",
   "metadata": {},
   "outputs": [],
   "source": [
    "titanic_df = pd.read_csv('titanic_train_kagle.csv')\n",
    "test_df = pd.read_csv('titanic_test_kagle.csv')"
   ]
  },
  {
   "cell_type": "code",
   "execution_count": 3,
   "id": "fluid-immunology",
   "metadata": {},
   "outputs": [
    {
     "data": {
      "text/html": [
       "<div>\n",
       "<style scoped>\n",
       "    .dataframe tbody tr th:only-of-type {\n",
       "        vertical-align: middle;\n",
       "    }\n",
       "\n",
       "    .dataframe tbody tr th {\n",
       "        vertical-align: top;\n",
       "    }\n",
       "\n",
       "    .dataframe thead th {\n",
       "        text-align: right;\n",
       "    }\n",
       "</style>\n",
       "<table border=\"1\" class=\"dataframe\">\n",
       "  <thead>\n",
       "    <tr style=\"text-align: right;\">\n",
       "      <th></th>\n",
       "      <th>PassengerId</th>\n",
       "      <th>Survived</th>\n",
       "      <th>Pclass</th>\n",
       "      <th>Name</th>\n",
       "      <th>Sex</th>\n",
       "      <th>Age</th>\n",
       "      <th>SibSp</th>\n",
       "      <th>Parch</th>\n",
       "      <th>Ticket</th>\n",
       "      <th>Fare</th>\n",
       "      <th>Cabin</th>\n",
       "      <th>Embarked</th>\n",
       "    </tr>\n",
       "  </thead>\n",
       "  <tbody>\n",
       "    <tr>\n",
       "      <th>0</th>\n",
       "      <td>1</td>\n",
       "      <td>0</td>\n",
       "      <td>3</td>\n",
       "      <td>Braund, Mr. Owen Harris</td>\n",
       "      <td>male</td>\n",
       "      <td>22.0</td>\n",
       "      <td>1</td>\n",
       "      <td>0</td>\n",
       "      <td>A/5 21171</td>\n",
       "      <td>7.2500</td>\n",
       "      <td>NaN</td>\n",
       "      <td>S</td>\n",
       "    </tr>\n",
       "    <tr>\n",
       "      <th>1</th>\n",
       "      <td>2</td>\n",
       "      <td>1</td>\n",
       "      <td>1</td>\n",
       "      <td>Cumings, Mrs. John Bradley (Florence Briggs Th...</td>\n",
       "      <td>female</td>\n",
       "      <td>38.0</td>\n",
       "      <td>1</td>\n",
       "      <td>0</td>\n",
       "      <td>PC 17599</td>\n",
       "      <td>71.2833</td>\n",
       "      <td>C85</td>\n",
       "      <td>C</td>\n",
       "    </tr>\n",
       "    <tr>\n",
       "      <th>2</th>\n",
       "      <td>3</td>\n",
       "      <td>1</td>\n",
       "      <td>3</td>\n",
       "      <td>Heikkinen, Miss. Laina</td>\n",
       "      <td>female</td>\n",
       "      <td>26.0</td>\n",
       "      <td>0</td>\n",
       "      <td>0</td>\n",
       "      <td>STON/O2. 3101282</td>\n",
       "      <td>7.9250</td>\n",
       "      <td>NaN</td>\n",
       "      <td>S</td>\n",
       "    </tr>\n",
       "  </tbody>\n",
       "</table>\n",
       "</div>"
      ],
      "text/plain": [
       "   PassengerId  Survived  Pclass  \\\n",
       "0            1         0       3   \n",
       "1            2         1       1   \n",
       "2            3         1       3   \n",
       "\n",
       "                                                Name     Sex   Age  SibSp  \\\n",
       "0                            Braund, Mr. Owen Harris    male  22.0      1   \n",
       "1  Cumings, Mrs. John Bradley (Florence Briggs Th...  female  38.0      1   \n",
       "2                             Heikkinen, Miss. Laina  female  26.0      0   \n",
       "\n",
       "   Parch            Ticket     Fare Cabin Embarked  \n",
       "0      0         A/5 21171   7.2500   NaN        S  \n",
       "1      0          PC 17599  71.2833   C85        C  \n",
       "2      0  STON/O2. 3101282   7.9250   NaN        S  "
      ]
     },
     "execution_count": 3,
     "metadata": {},
     "output_type": "execute_result"
    }
   ],
   "source": [
    "titanic_df.head(3)"
   ]
  },
  {
   "cell_type": "code",
   "execution_count": 4,
   "id": "egyptian-table",
   "metadata": {},
   "outputs": [
    {
     "name": "stdout",
     "output_type": "stream",
     "text": [
      "train_set shape: (891, 12), test_set shape: (418, 11)\n"
     ]
    }
   ],
   "source": [
    "print(f'train_set shape: {titanic_df.shape}, test_set shape: {test_df.shape}')"
   ]
  },
  {
   "cell_type": "markdown",
   "id": "sustainable-point",
   "metadata": {},
   "source": [
    "- Survived: Survival (0 = No; 1 = Yes) \n",
    "- Pcass: Passenger Class (1 = 1st; 2 = 2nd; 3 = 3rd) \n",
    "- SibSp: Number of Siblings/Spouses Aboard \n",
    "- Parch: Number of Parents/Children Aboard \n",
    "- Fare: Passenger Fare (British pound) \n",
    "- Sex: Sex (male = 1, female = 0) \n",
    "- Embarked: Port of Embarkation (C = Cherbourg = 2; Q = Queenstown = 3; S = Southampton = 1) \n",
    "- Age: Age"
   ]
  },
  {
   "cell_type": "markdown",
   "id": "abandoned-extraction",
   "metadata": {},
   "source": [
    "**MISSING DATA**"
   ]
  },
  {
   "cell_type": "code",
   "execution_count": 5,
   "id": "turkish-cleanup",
   "metadata": {},
   "outputs": [
    {
     "data": {
      "text/html": [
       "<div>\n",
       "<style scoped>\n",
       "    .dataframe tbody tr th:only-of-type {\n",
       "        vertical-align: middle;\n",
       "    }\n",
       "\n",
       "    .dataframe tbody tr th {\n",
       "        vertical-align: top;\n",
       "    }\n",
       "\n",
       "    .dataframe thead th {\n",
       "        text-align: right;\n",
       "    }\n",
       "</style>\n",
       "<table border=\"1\" class=\"dataframe\">\n",
       "  <thead>\n",
       "    <tr style=\"text-align: right;\">\n",
       "      <th></th>\n",
       "      <th>index</th>\n",
       "      <th>train</th>\n",
       "      <th>test</th>\n",
       "    </tr>\n",
       "  </thead>\n",
       "  <tbody>\n",
       "    <tr>\n",
       "      <th>0</th>\n",
       "      <td>PassengerId</td>\n",
       "      <td>0</td>\n",
       "      <td>0</td>\n",
       "    </tr>\n",
       "    <tr>\n",
       "      <th>1</th>\n",
       "      <td>Pclass</td>\n",
       "      <td>0</td>\n",
       "      <td>0</td>\n",
       "    </tr>\n",
       "    <tr>\n",
       "      <th>2</th>\n",
       "      <td>Name</td>\n",
       "      <td>0</td>\n",
       "      <td>0</td>\n",
       "    </tr>\n",
       "    <tr>\n",
       "      <th>3</th>\n",
       "      <td>Sex</td>\n",
       "      <td>0</td>\n",
       "      <td>0</td>\n",
       "    </tr>\n",
       "    <tr>\n",
       "      <th>4</th>\n",
       "      <td>Age</td>\n",
       "      <td>177</td>\n",
       "      <td>86</td>\n",
       "    </tr>\n",
       "    <tr>\n",
       "      <th>5</th>\n",
       "      <td>SibSp</td>\n",
       "      <td>0</td>\n",
       "      <td>0</td>\n",
       "    </tr>\n",
       "    <tr>\n",
       "      <th>6</th>\n",
       "      <td>Parch</td>\n",
       "      <td>0</td>\n",
       "      <td>0</td>\n",
       "    </tr>\n",
       "    <tr>\n",
       "      <th>7</th>\n",
       "      <td>Ticket</td>\n",
       "      <td>0</td>\n",
       "      <td>0</td>\n",
       "    </tr>\n",
       "    <tr>\n",
       "      <th>8</th>\n",
       "      <td>Fare</td>\n",
       "      <td>0</td>\n",
       "      <td>1</td>\n",
       "    </tr>\n",
       "    <tr>\n",
       "      <th>9</th>\n",
       "      <td>Cabin</td>\n",
       "      <td>687</td>\n",
       "      <td>327</td>\n",
       "    </tr>\n",
       "    <tr>\n",
       "      <th>10</th>\n",
       "      <td>Embarked</td>\n",
       "      <td>2</td>\n",
       "      <td>0</td>\n",
       "    </tr>\n",
       "  </tbody>\n",
       "</table>\n",
       "</div>"
      ],
      "text/plain": [
       "          index  train  test\n",
       "0   PassengerId      0     0\n",
       "1        Pclass      0     0\n",
       "2          Name      0     0\n",
       "3           Sex      0     0\n",
       "4           Age    177    86\n",
       "5         SibSp      0     0\n",
       "6         Parch      0     0\n",
       "7        Ticket      0     0\n",
       "8          Fare      0     1\n",
       "9         Cabin    687   327\n",
       "10     Embarked      2     0"
      ]
     },
     "execution_count": 5,
     "metadata": {},
     "output_type": "execute_result"
    }
   ],
   "source": [
    "train_missing = titanic_df.isnull().sum().to_frame().reset_index()\n",
    "test_missing = test_df.isnull().sum().to_frame().reset_index()\n",
    "missing_data = train_missing.merge(test_missing, on='index').rename(columns={'0_x':'train', '0_y':'test'})\n",
    "missing_data"
   ]
  },
  {
   "cell_type": "code",
   "execution_count": 6,
   "id": "accompanied-rings",
   "metadata": {
    "tags": []
   },
   "outputs": [],
   "source": [
    "trd, ted = titanic_df.copy(), test_df.copy()\n",
    "data = [trd, ted]\n",
    "for dataset in data:\n",
    "    dataset.drop(['Ticket', 'Cabin'], axis=1, inplace=True)"
   ]
  },
  {
   "cell_type": "markdown",
   "id": "surgical-greensboro",
   "metadata": {},
   "source": [
    "**UNIQUE DATA**"
   ]
  },
  {
   "cell_type": "code",
   "execution_count": 7,
   "id": "complete-activation",
   "metadata": {},
   "outputs": [
    {
     "data": {
      "text/html": [
       "<div>\n",
       "<style scoped>\n",
       "    .dataframe tbody tr th:only-of-type {\n",
       "        vertical-align: middle;\n",
       "    }\n",
       "\n",
       "    .dataframe tbody tr th {\n",
       "        vertical-align: top;\n",
       "    }\n",
       "\n",
       "    .dataframe thead th {\n",
       "        text-align: right;\n",
       "    }\n",
       "</style>\n",
       "<table border=\"1\" class=\"dataframe\">\n",
       "  <thead>\n",
       "    <tr style=\"text-align: right;\">\n",
       "      <th></th>\n",
       "      <th>index</th>\n",
       "      <th>train</th>\n",
       "      <th>test</th>\n",
       "    </tr>\n",
       "  </thead>\n",
       "  <tbody>\n",
       "    <tr>\n",
       "      <th>0</th>\n",
       "      <td>PassengerId</td>\n",
       "      <td>891</td>\n",
       "      <td>418</td>\n",
       "    </tr>\n",
       "    <tr>\n",
       "      <th>1</th>\n",
       "      <td>Pclass</td>\n",
       "      <td>3</td>\n",
       "      <td>3</td>\n",
       "    </tr>\n",
       "    <tr>\n",
       "      <th>2</th>\n",
       "      <td>Name</td>\n",
       "      <td>891</td>\n",
       "      <td>418</td>\n",
       "    </tr>\n",
       "    <tr>\n",
       "      <th>3</th>\n",
       "      <td>Sex</td>\n",
       "      <td>2</td>\n",
       "      <td>2</td>\n",
       "    </tr>\n",
       "    <tr>\n",
       "      <th>4</th>\n",
       "      <td>Age</td>\n",
       "      <td>88</td>\n",
       "      <td>79</td>\n",
       "    </tr>\n",
       "    <tr>\n",
       "      <th>5</th>\n",
       "      <td>SibSp</td>\n",
       "      <td>7</td>\n",
       "      <td>7</td>\n",
       "    </tr>\n",
       "    <tr>\n",
       "      <th>6</th>\n",
       "      <td>Parch</td>\n",
       "      <td>7</td>\n",
       "      <td>8</td>\n",
       "    </tr>\n",
       "    <tr>\n",
       "      <th>7</th>\n",
       "      <td>Fare</td>\n",
       "      <td>248</td>\n",
       "      <td>169</td>\n",
       "    </tr>\n",
       "    <tr>\n",
       "      <th>8</th>\n",
       "      <td>Embarked</td>\n",
       "      <td>3</td>\n",
       "      <td>3</td>\n",
       "    </tr>\n",
       "  </tbody>\n",
       "</table>\n",
       "</div>"
      ],
      "text/plain": [
       "         index  train  test\n",
       "0  PassengerId    891   418\n",
       "1       Pclass      3     3\n",
       "2         Name    891   418\n",
       "3          Sex      2     2\n",
       "4          Age     88    79\n",
       "5        SibSp      7     7\n",
       "6        Parch      7     8\n",
       "7         Fare    248   169\n",
       "8     Embarked      3     3"
      ]
     },
     "execution_count": 7,
     "metadata": {},
     "output_type": "execute_result"
    }
   ],
   "source": [
    "train_unique = trd.nunique().to_frame().reset_index()\n",
    "test_unique = ted.nunique().to_frame().reset_index()\n",
    "unique_data = train_unique.merge(test_unique, on='index').rename(columns={'0_x':'train', '0_y':'test'})\n",
    "unique_data"
   ]
  },
  {
   "cell_type": "markdown",
   "id": "educational-african",
   "metadata": {},
   "source": [
    "**QUICK DATA OVERVIEW**"
   ]
  },
  {
   "cell_type": "code",
   "execution_count": 8,
   "id": "fatal-philip",
   "metadata": {
    "tags": []
   },
   "outputs": [
    {
     "data": {
      "text/html": [
       "<iframe\n",
       "    scrolling=\"no\"\n",
       "    width=\"920px\"\n",
       "    height=\"320\"\n",
       "    src=\"iframe_figures/figure_8.html\"\n",
       "    frameborder=\"0\"\n",
       "    allowfullscreen\n",
       "></iframe>\n"
      ]
     },
     "metadata": {},
     "output_type": "display_data"
    }
   ],
   "source": [
    "import plotly.express as px\n",
    "from plotly.subplots import make_subplots\n",
    "import plotly.io as pio # без этого фигуры ниже не отображаются\n",
    "pio.renderers.default = \"iframe\"\n",
    "\n",
    "fig1=px.histogram(titanic_df,\n",
    "             x='Sex', \n",
    "             barmode=\"group\",\n",
    "             marginal=\"box\", nbins=100,\n",
    "             color='Survived')\n",
    "\n",
    "fig2=px.histogram(titanic_df,\n",
    "             x='Pclass',\n",
    "             barmode=\"group\",\n",
    "             marginal=\"box\", #nbins=50,\n",
    "             color='Survived')\n",
    "\n",
    "fig3=px.histogram(titanic_df,\n",
    "             x='Embarked',\n",
    "             barmode=\"group\",\n",
    "             marginal=\"box\", #nbins=50,\n",
    "             color='Survived')\n",
    "\n",
    "fig4=px.histogram(titanic_df,\n",
    "             x='SibSp',\n",
    "             barmode=\"group\",\n",
    "             marginal=\"box\", #nbins=50,\n",
    "             color='Survived')\n",
    "\n",
    "fig5=px.histogram(titanic_df,\n",
    "             x='Parch',\n",
    "             barmode=\"group\",\n",
    "             marginal=\"box\", #nbins=50,\n",
    "             color='Survived')\n",
    "\n",
    "fig = make_subplots(rows=1, cols=5, subplot_titles=('Sex', 'Pclass', 'Embarked', 'SibSp', 'Parch'))\n",
    "\n",
    "fig.add_trace(fig1.data[0], row=1, col=1)\n",
    "fig.add_trace(fig1.data[2], row=1, col=1)\n",
    "fig.add_trace(fig2.data[0], row=1, col=2)\n",
    "fig.add_trace(fig2.data[2], row=1, col=2)\n",
    "fig.add_trace(fig3.data[0], row=1, col=3)\n",
    "fig.add_trace(fig3.data[2], row=1, col=3)\n",
    "fig.add_trace(fig4.data[0], row=1, col=4)\n",
    "fig.add_trace(fig4.data[2], row=1, col=4)\n",
    "fig.update_traces(showlegend=False)\n",
    "fig.add_trace(fig5.data[0], row=1, col=5)\n",
    "fig.add_trace(fig5.data[2], row=1, col=5)\n",
    "fig.update_yaxes(title_text=\"Amount\", row=1, col=1)\n",
    "\n",
    "fig.update_layout(width=900, height=300, title_text='OBSERVATION #1 WITH RESPECT TO SURV/NOT SURV STATUS') \n",
    "fig.update_layout(margin=dict(l=0, r=0, t=100, b=0))\n",
    "fig.show()"
   ]
  },
  {
   "cell_type": "code",
   "execution_count": 9,
   "id": "large-navigation",
   "metadata": {
    "tags": []
   },
   "outputs": [
    {
     "data": {
      "text/html": [
       "<iframe\n",
       "    scrolling=\"no\"\n",
       "    width=\"920px\"\n",
       "    height=\"420\"\n",
       "    src=\"iframe_figures/figure_9.html\"\n",
       "    frameborder=\"0\"\n",
       "    allowfullscreen\n",
       "></iframe>\n"
      ]
     },
     "metadata": {},
     "output_type": "display_data"
    }
   ],
   "source": [
    "import plotly.express as px\n",
    "from plotly.subplots import make_subplots\n",
    "import plotly.io as pio # без этого фигуры ниже не отображаются\n",
    "pio.renderers.default = \"iframe\"\n",
    "\n",
    "fig1=px.histogram(titanic_df,\n",
    "             x='Age',\n",
    "             #color_discrete_sequence=px.colors.sequential.RdBu, \n",
    "             barmode=\"group\",\n",
    "             marginal=\"box\", nbins=100,\n",
    "             color='Survived'\n",
    "                )\n",
    "\n",
    "\n",
    "fig2=px.histogram(titanic_df,\n",
    "             x='Fare',\n",
    "             #color_discrete_sequence=px.colors.sequential.RdBu, \n",
    "             barmode=\"group\",\n",
    "             marginal=\"box\", #nbins=50,\n",
    "             color='Survived')\n",
    "\n",
    "\n",
    "fig = make_subplots(rows=2, cols=2, column_widths=[0.4, 0.6], row_heights=[0.3, 0.7], subplot_titles=('Age', 'Fare'))\n",
    "\n",
    "fig.add_trace(fig1.data[1], row=1, col=1)\n",
    "fig.add_trace(fig1.data[-1], row=1, col=1)\n",
    "fig.add_trace(fig1.data[0], row=2, col=1)\n",
    "fig.add_trace(fig1.data[2], row=2, col=1)\n",
    "fig.update_traces(showlegend=False)\n",
    "fig.update_xaxes(title_text=\"Age\", row=2, col=1)\n",
    "fig.update_yaxes(title_text=\"Amount\", row=2, col=1)\n",
    "\n",
    "fig.add_trace(fig2.data[1], row=1, col=2)\n",
    "fig.add_trace(fig2.data[-1], row=1, col=2)\n",
    "fig.add_trace(fig2.data[0], row=2, col=2)\n",
    "fig.add_trace(fig2.data[2], row=2, col=2)\n",
    "fig.update_xaxes(title_text=\"Fare\", row=2, col=2)\n",
    "fig.update_yaxes(title_text=\"Amount\", row=2, col=2)\n",
    "\n",
    "fig.update_layout(width=900, height=400, title_text='OBSERVATION #2 WITH RESPECT TO SURV/NOT SURV STATUS') \n",
    "fig.update_layout(margin=dict(l=0, r=0, t=100, b=0))\n",
    "fig.show()"
   ]
  },
  {
   "cell_type": "code",
   "execution_count": 10,
   "id": "quiet-dutch",
   "metadata": {
    "tags": []
   },
   "outputs": [
    {
     "data": {
      "image/png": "[encoded data removed]",
      "text/plain": [
       "<Figure size 576x432 with 2 Axes>"
      ]
     },
     "metadata": {
      "needs_background": "light"
     },
     "output_type": "display_data"
    }
   ],
   "source": [
    "#%matplotlib inline\n",
    "# посмотрим корреляцию между признаками и выжтванием\n",
    "plt.figure(figsize=(8,6))\n",
    "ax = plt.axes()\n",
    "\n",
    "train_corr=titanic_df.copy().drop('PassengerId', axis=1)\n",
    "\n",
    "# переведем категории в цифры\n",
    "train_corr.Sex=lb_make.fit_transform(train_corr.Sex)\n",
    "train_corr.Embarked=lb_make.fit_transform(train_corr.Embarked) \n",
    "\n",
    "features_corr = sns.heatmap(train_corr.corr(), annot=True, cmap='coolwarm') \n",
    "features_corr=features_corr.set_yticklabels(features_corr.get_yticklabels(), rotation=0, horizontalalignment='right')\n",
    "ax.set_title('OBSERVATION #3 FEATURES CORRELATION')\n",
    "plt.show()"
   ]
  },
  {
   "cell_type": "markdown",
   "id": "numeric-homeless",
   "metadata": {},
   "source": [
    "**Resume by observation:**\n",
    "- выживание тесно связано с полом пассажира\n",
    "- у женщин больше шансов выжить\n",
    "- чем ниже класс каюты, тем меньше шансов выжить\n",
    "- посадка в порту С ведет к бо'льшим шансам выжить\n",
    "- с ростом кол-ва SibSp шансы выжить уменьшаются\n",
    "- по возрасту м-у погибшими и выжившими значимых разлиий нет\n",
    "- но маленькие дети выживают лучше всех\n",
    "- тарифы: медиана тарифов выживших значительно отличается от медианы погибших\n",
    "\n",
    "\n",
    "**Features recognition:**\n",
    "- пол, класс каюты, порт посадки, тарифы могут быть использованы  в качестве признаков для обучения модели\n",
    "- возможно стоит как-то перобразовать SibSp и Parch, чтобы усилить связь со статусом пассажира\n",
    "- попробовать перевести возраст в категории и посмотреть, как повыситься предсказывание модели\n"
   ]
  },
  {
   "cell_type": "markdown",
   "id": "living-sharing",
   "metadata": {},
   "source": [
    "**FILLING IN MISSED DATA.AGE**"
   ]
  },
  {
   "cell_type": "code",
   "execution_count": 11,
   "id": "going-equality",
   "metadata": {},
   "outputs": [],
   "source": [
    "for dataset in data:\n",
    "    dataset['Title'] = dataset.Name.apply(lambda name: name.split(',')[1].split('.')[0].strip())"
   ]
  },
  {
   "cell_type": "code",
   "execution_count": 12,
   "id": "planned-omega",
   "metadata": {},
   "outputs": [
    {
     "data": {
      "text/plain": [
       "[root[1]['Dona'], root[3]['Ms']]"
      ]
     },
     "execution_count": 12,
     "metadata": {},
     "output_type": "execute_result"
    }
   ],
   "source": [
    "# для создания словаря титулов нужно убедиться, что наборы титулов в двух df не отличаются\n",
    "from deepdiff import DeepDiff\n",
    "\n",
    "trd_titles = trd.groupby(['Pclass']).Title.apply(set).to_dict()\n",
    "ted_titles = ted.groupby(['Pclass']).Title.apply(set).to_dict()\n",
    "\n",
    "diff = DeepDiff(trd_titles, ted_titles)\n",
    "diff['set_item_added']\n",
    "# как видим, trd не содержит Pclass 1: Dona, Pclass 3: MS - нужно это учесть при составлении словаря титулов"
   ]
  },
  {
   "cell_type": "code",
   "execution_count": 13,
   "id": "saved-camel",
   "metadata": {},
   "outputs": [
    {
     "data": {
      "text/html": [
       "<div>\n",
       "<style scoped>\n",
       "    .dataframe tbody tr th:only-of-type {\n",
       "        vertical-align: middle;\n",
       "    }\n",
       "\n",
       "    .dataframe tbody tr th {\n",
       "        vertical-align: top;\n",
       "    }\n",
       "\n",
       "    .dataframe thead th {\n",
       "        text-align: right;\n",
       "    }\n",
       "</style>\n",
       "<table border=\"1\" class=\"dataframe\">\n",
       "  <thead>\n",
       "    <tr style=\"text-align: right;\">\n",
       "      <th></th>\n",
       "      <th>Pclass</th>\n",
       "      <th>Sex</th>\n",
       "      <th>Title</th>\n",
       "      <th>Amount</th>\n",
       "      <th>mean_Age</th>\n",
       "      <th>std_Age</th>\n",
       "    </tr>\n",
       "  </thead>\n",
       "  <tbody>\n",
       "    <tr>\n",
       "      <th>0</th>\n",
       "      <td>1</td>\n",
       "      <td>female</td>\n",
       "      <td>Dr</td>\n",
       "      <td>1</td>\n",
       "      <td>49.0</td>\n",
       "      <td>0.000000</td>\n",
       "    </tr>\n",
       "    <tr>\n",
       "      <th>1</th>\n",
       "      <td>1</td>\n",
       "      <td>female</td>\n",
       "      <td>Lady</td>\n",
       "      <td>1</td>\n",
       "      <td>48.0</td>\n",
       "      <td>0.000000</td>\n",
       "    </tr>\n",
       "    <tr>\n",
       "      <th>2</th>\n",
       "      <td>1</td>\n",
       "      <td>female</td>\n",
       "      <td>Miss</td>\n",
       "      <td>46</td>\n",
       "      <td>30.0</td>\n",
       "      <td>12.852308</td>\n",
       "    </tr>\n",
       "    <tr>\n",
       "      <th>3</th>\n",
       "      <td>1</td>\n",
       "      <td>female</td>\n",
       "      <td>Mlle</td>\n",
       "      <td>2</td>\n",
       "      <td>24.0</td>\n",
       "      <td>0.000000</td>\n",
       "    </tr>\n",
       "    <tr>\n",
       "      <th>4</th>\n",
       "      <td>1</td>\n",
       "      <td>female</td>\n",
       "      <td>Mme</td>\n",
       "      <td>1</td>\n",
       "      <td>24.0</td>\n",
       "      <td>0.000000</td>\n",
       "    </tr>\n",
       "  </tbody>\n",
       "</table>\n",
       "</div>"
      ],
      "text/plain": [
       "   Pclass     Sex Title  Amount  mean_Age    std_Age\n",
       "0       1  female    Dr       1      49.0   0.000000\n",
       "1       1  female  Lady       1      48.0   0.000000\n",
       "2       1  female  Miss      46      30.0  12.852308\n",
       "3       1  female  Mlle       2      24.0   0.000000\n",
       "4       1  female   Mme       1      24.0   0.000000"
      ]
     },
     "execution_count": 13,
     "metadata": {},
     "output_type": "execute_result"
    }
   ],
   "source": [
    "# vocab for the age-gap replacement\n",
    "mean_age_df = trd.groupby(['Pclass','Sex','Title'], as_index=False).agg({'PassengerId':'count', 'Age':'mean'}).rename(columns={'PassengerId':'Amount', 'Age':'mean_Age'}).fillna(trd.Age.mean())\n",
    "std_age = trd.groupby(['Pclass','Sex','Title'], as_index=False).Age.std().rename(columns={'Age':'std_Age'}).fillna(0)\n",
    "mean_age_df = mean_age_df.merge(std_age, how='outer', on=['Pclass','Sex','Title'])\n",
    "# добавляем недостающие титулы\n",
    "dona_1 = trd.loc[(trd.Pclass==1)&(trd.Sex=='female'), 'Age'].mean()\n",
    "ms_3 = trd.loc[(trd.Pclass==3)&(trd.Sex=='female'), 'Age'].mean()\n",
    "mean_age_df = mean_age_df.append(pd.DataFrame([[1,'female', 'Dona', 1, dona_1, 0],[3,'female', 'Ms', 1, ms_3, 0]], \n",
    "                                              columns=['Pclass','Sex','Title','Amount','mean_Age','std_Age']), ignore_index=True)\n",
    "mean_age_df.head()"
   ]
  },
  {
   "cell_type": "code",
   "execution_count": 14,
   "id": "crucial-coating",
   "metadata": {},
   "outputs": [],
   "source": [
    "def AgeFillIn(df):\n",
    "        \"\"\" \n",
    "        Ф-я возвращает возраст:\n",
    "        Если возраст в ячейке пропущен ф-я берет данные из диапазона: \n",
    "        ср. возраст по классу каюты, полу, титулу  +/- ст. откл,\n",
    "        в противном случае оставляет данные как есть \n",
    "        \"\"\"\n",
    "        Age, pclass, sex, title = df[0], df[1], df[2], df[3]\n",
    "\n",
    "        if pd.isnull(Age):\n",
    "            filter_data = (mean_age_df.Pclass==pclass)&(mean_age_df.Sex==sex)&(mean_age_df.Title==title)\n",
    "            res = mean_age_df.loc[filter_data, ['mean_Age', 'std_Age']]\n",
    "            mean_age, std_age = res.mean_Age, res.std_Age\n",
    "            age = [uniform.rvs(mean_age+std_age, mean_age-std_age)][0]\n",
    "            return age\n",
    "        else:\n",
    "            return Age\n",
    "for dataset in data:\n",
    "    dataset['Age_new'] = dataset[['Age','Pclass','Sex','Title']].apply(AgeFillIn, axis = 1)"
   ]
  },
  {
   "cell_type": "code",
   "execution_count": 15,
   "id": "intimate-directory",
   "metadata": {},
   "outputs": [
    {
     "data": {
      "text/plain": [
       "(0, 0)"
      ]
     },
     "execution_count": 15,
     "metadata": {},
     "output_type": "execute_result"
    }
   ],
   "source": [
    "# check for missing age data\n",
    "trd.Age_new.isnull().sum(), ted.Age_new.isnull().sum()"
   ]
  },
  {
   "cell_type": "code",
   "execution_count": 16,
   "id": "robust-rouge",
   "metadata": {},
   "outputs": [
    {
     "data": {
      "text/plain": [
       "(33.296491395105924, 33.51649591752552)"
      ]
     },
     "execution_count": 16,
     "metadata": {},
     "output_type": "execute_result"
    }
   ],
   "source": [
    "# mean age after the missed data was filled in\n",
    "trd.Age_new.mean(), ted.Age_new.mean()"
   ]
  },
  {
   "cell_type": "code",
   "execution_count": 17,
   "id": "republican-alexander",
   "metadata": {},
   "outputs": [
    {
     "data": {
      "text/html": [
       "<div>\n",
       "<style scoped>\n",
       "    .dataframe tbody tr th:only-of-type {\n",
       "        vertical-align: middle;\n",
       "    }\n",
       "\n",
       "    .dataframe tbody tr th {\n",
       "        vertical-align: top;\n",
       "    }\n",
       "\n",
       "    .dataframe thead th {\n",
       "        text-align: right;\n",
       "    }\n",
       "</style>\n",
       "<table border=\"1\" class=\"dataframe\">\n",
       "  <thead>\n",
       "    <tr style=\"text-align: right;\">\n",
       "      <th></th>\n",
       "      <th>index</th>\n",
       "      <th>train</th>\n",
       "      <th>test</th>\n",
       "    </tr>\n",
       "  </thead>\n",
       "  <tbody>\n",
       "    <tr>\n",
       "      <th>0</th>\n",
       "      <td>PassengerId</td>\n",
       "      <td>0</td>\n",
       "      <td>0</td>\n",
       "    </tr>\n",
       "    <tr>\n",
       "      <th>1</th>\n",
       "      <td>Pclass</td>\n",
       "      <td>0</td>\n",
       "      <td>0</td>\n",
       "    </tr>\n",
       "    <tr>\n",
       "      <th>2</th>\n",
       "      <td>Name</td>\n",
       "      <td>0</td>\n",
       "      <td>0</td>\n",
       "    </tr>\n",
       "    <tr>\n",
       "      <th>3</th>\n",
       "      <td>Sex</td>\n",
       "      <td>0</td>\n",
       "      <td>0</td>\n",
       "    </tr>\n",
       "    <tr>\n",
       "      <th>4</th>\n",
       "      <td>Age</td>\n",
       "      <td>177</td>\n",
       "      <td>86</td>\n",
       "    </tr>\n",
       "    <tr>\n",
       "      <th>5</th>\n",
       "      <td>SibSp</td>\n",
       "      <td>0</td>\n",
       "      <td>0</td>\n",
       "    </tr>\n",
       "    <tr>\n",
       "      <th>6</th>\n",
       "      <td>Parch</td>\n",
       "      <td>0</td>\n",
       "      <td>0</td>\n",
       "    </tr>\n",
       "    <tr>\n",
       "      <th>7</th>\n",
       "      <td>Fare</td>\n",
       "      <td>0</td>\n",
       "      <td>1</td>\n",
       "    </tr>\n",
       "    <tr>\n",
       "      <th>8</th>\n",
       "      <td>Embarked</td>\n",
       "      <td>2</td>\n",
       "      <td>0</td>\n",
       "    </tr>\n",
       "    <tr>\n",
       "      <th>9</th>\n",
       "      <td>Title</td>\n",
       "      <td>0</td>\n",
       "      <td>0</td>\n",
       "    </tr>\n",
       "    <tr>\n",
       "      <th>10</th>\n",
       "      <td>Age_new</td>\n",
       "      <td>0</td>\n",
       "      <td>0</td>\n",
       "    </tr>\n",
       "  </tbody>\n",
       "</table>\n",
       "</div>"
      ],
      "text/plain": [
       "          index  train  test\n",
       "0   PassengerId      0     0\n",
       "1        Pclass      0     0\n",
       "2          Name      0     0\n",
       "3           Sex      0     0\n",
       "4           Age    177    86\n",
       "5         SibSp      0     0\n",
       "6         Parch      0     0\n",
       "7          Fare      0     1\n",
       "8      Embarked      2     0\n",
       "9         Title      0     0\n",
       "10      Age_new      0     0"
      ]
     },
     "execution_count": 17,
     "metadata": {},
     "output_type": "execute_result"
    }
   ],
   "source": [
    "# check for missing data (Age column will be dropped)\n",
    "train_missing = trd.isnull().sum().to_frame().reset_index()\n",
    "test_missing = ted.isnull().sum().to_frame().reset_index()\n",
    "missing_data = train_missing.merge(test_missing, on='index').rename(columns={'0_x':'train', '0_y':'test'})\n",
    "missing_data"
   ]
  },
  {
   "cell_type": "markdown",
   "id": "minor-sullivan",
   "metadata": {},
   "source": [
    "Заполним оставшиеся пропуски позже при помощи SimpleImputer"
   ]
  },
  {
   "cell_type": "markdown",
   "id": "careful-atlantic",
   "metadata": {},
   "source": [
    "# **II. FEATURES' DESIGN**"
   ]
  },
  {
   "cell_type": "markdown",
   "id": "wired-jamaica",
   "metadata": {},
   "source": [
    "**FAMILY**"
   ]
  },
  {
   "cell_type": "markdown",
   "id": "informative-event",
   "metadata": {},
   "source": [
    "- наличие родственников на борту повышает шансы выжит\n",
    "- разделим пассажиров на 3 категории: одинокие/с семьей до 4 человек/остальное - Family1\n",
    "- разделим пассажирова на 2 категории: одинокие/с семьей - Family2"
   ]
  },
  {
   "cell_type": "code",
   "execution_count": 18,
   "id": "specific-dubai",
   "metadata": {
    "tags": []
   },
   "outputs": [],
   "source": [
    "for dataset in data:\n",
    "    dataset['Family'] = dataset['SibSp'] +dataset['Parch']\n",
    "    dataset['Family2'] = pd.cut(dataset.Family, bins=[-1,0, 4, 10], labels=['Alone','1-4', '>4'])\n",
    "    dataset['Family1'] = pd.cut(dataset.Family, bins=[-1,0,10], labels=['Alone','withFamily'])"
   ]
  },
  {
   "cell_type": "code",
   "execution_count": 19,
   "id": "saving-allocation",
   "metadata": {},
   "outputs": [
    {
     "data": {
      "text/html": [
       "<div>\n",
       "<style scoped>\n",
       "    .dataframe tbody tr th:only-of-type {\n",
       "        vertical-align: middle;\n",
       "    }\n",
       "\n",
       "    .dataframe tbody tr th {\n",
       "        vertical-align: top;\n",
       "    }\n",
       "\n",
       "    .dataframe thead th {\n",
       "        text-align: right;\n",
       "    }\n",
       "</style>\n",
       "<table border=\"1\" class=\"dataframe\">\n",
       "  <thead>\n",
       "    <tr style=\"text-align: right;\">\n",
       "      <th></th>\n",
       "      <th>Family1</th>\n",
       "      <th>Amount</th>\n",
       "      <th>Survived</th>\n",
       "    </tr>\n",
       "  </thead>\n",
       "  <tbody>\n",
       "    <tr>\n",
       "      <th>0</th>\n",
       "      <td>Alone</td>\n",
       "      <td>537</td>\n",
       "      <td>0.303538</td>\n",
       "    </tr>\n",
       "    <tr>\n",
       "      <th>1</th>\n",
       "      <td>withFamily</td>\n",
       "      <td>354</td>\n",
       "      <td>0.505650</td>\n",
       "    </tr>\n",
       "  </tbody>\n",
       "</table>\n",
       "</div>"
      ],
      "text/plain": [
       "      Family1  Amount  Survived\n",
       "0       Alone     537  0.303538\n",
       "1  withFamily     354  0.505650"
      ]
     },
     "execution_count": 19,
     "metadata": {},
     "output_type": "execute_result"
    }
   ],
   "source": [
    "trd.groupby('Family1', as_index=False).agg({'PassengerId':'count', 'Survived':'mean'}).rename(columns={'PassengerId':'Amount'})"
   ]
  },
  {
   "cell_type": "code",
   "execution_count": 20,
   "id": "available-fetish",
   "metadata": {},
   "outputs": [
    {
     "data": {
      "text/html": [
       "<div>\n",
       "<style scoped>\n",
       "    .dataframe tbody tr th:only-of-type {\n",
       "        vertical-align: middle;\n",
       "    }\n",
       "\n",
       "    .dataframe tbody tr th {\n",
       "        vertical-align: top;\n",
       "    }\n",
       "\n",
       "    .dataframe thead th {\n",
       "        text-align: right;\n",
       "    }\n",
       "</style>\n",
       "<table border=\"1\" class=\"dataframe\">\n",
       "  <thead>\n",
       "    <tr style=\"text-align: right;\">\n",
       "      <th></th>\n",
       "      <th>Family2</th>\n",
       "      <th>Amount</th>\n",
       "      <th>Survived</th>\n",
       "    </tr>\n",
       "  </thead>\n",
       "  <tbody>\n",
       "    <tr>\n",
       "      <th>0</th>\n",
       "      <td>Alone</td>\n",
       "      <td>537</td>\n",
       "      <td>0.303538</td>\n",
       "    </tr>\n",
       "    <tr>\n",
       "      <th>1</th>\n",
       "      <td>1-4</td>\n",
       "      <td>307</td>\n",
       "      <td>0.560261</td>\n",
       "    </tr>\n",
       "    <tr>\n",
       "      <th>2</th>\n",
       "      <td>&gt;4</td>\n",
       "      <td>47</td>\n",
       "      <td>0.148936</td>\n",
       "    </tr>\n",
       "  </tbody>\n",
       "</table>\n",
       "</div>"
      ],
      "text/plain": [
       "  Family2  Amount  Survived\n",
       "0   Alone     537  0.303538\n",
       "1     1-4     307  0.560261\n",
       "2      >4      47  0.148936"
      ]
     },
     "execution_count": 20,
     "metadata": {},
     "output_type": "execute_result"
    }
   ],
   "source": [
    "trd.groupby('Family2', as_index=False).agg({'PassengerId':'count', 'Survived':'mean'}).rename(columns={'PassengerId':'Amount'})"
   ]
  },
  {
   "cell_type": "markdown",
   "id": "associate-accountability",
   "metadata": {},
   "source": [
    "**AGE**"
   ]
  },
  {
   "cell_type": "markdown",
   "id": "compound-malaysia",
   "metadata": {},
   "source": [
    "- нужно помнить, что отсуствующие данные были компенсированы\n",
    "- маленькие дати до 5 лет выживают лучше \n",
    "- для того, чтобы не зависеть от искусственных данных переведем возраст в следующие 2 вида:\n",
    "    - разделим пассажиров на 3 категории: дети до 5 лет, те у кого есть данные, остальные - Age_cat1\n",
    "    - разделим пассажиров на 2 категории: дети до 5 лет и остальные - Age_cat2"
   ]
  },
  {
   "cell_type": "code",
   "execution_count": 132,
   "id": "prerequisite-black",
   "metadata": {},
   "outputs": [
    {
     "data": {
      "image/png": "[encoded data removed]",
      "text/plain": [
       "<Figure size 1008x180 with 1 Axes>"
      ]
     },
     "metadata": {
      "needs_background": "light"
     },
     "output_type": "display_data"
    }
   ],
   "source": [
    "# распределение известных  данных по возрасту с учетом пола и статуса выживания\n",
    "fig_dims = (14, 2.5)\n",
    "fig = plt.subplots(figsize=fig_dims) \n",
    "sns.scatterplot(x=titanic_df[\"Age\"], y=titanic_df[\"Sex\"], hue=titanic_df[\"Survived\"], style=titanic_df['Sex'])\n",
    "plt.show()\n",
    "# основано на данных до компенсации возраста"
   ]
  },
  {
   "cell_type": "code",
   "execution_count": 22,
   "id": "dress-running",
   "metadata": {},
   "outputs": [
    {
     "data": {
      "text/html": [
       "<div>\n",
       "<style scoped>\n",
       "    .dataframe tbody tr th:only-of-type {\n",
       "        vertical-align: middle;\n",
       "    }\n",
       "\n",
       "    .dataframe tbody tr th {\n",
       "        vertical-align: top;\n",
       "    }\n",
       "\n",
       "    .dataframe thead th {\n",
       "        text-align: right;\n",
       "    }\n",
       "</style>\n",
       "<table border=\"1\" class=\"dataframe\">\n",
       "  <thead>\n",
       "    <tr style=\"text-align: right;\">\n",
       "      <th></th>\n",
       "      <th>Age_category</th>\n",
       "      <th>Amount</th>\n",
       "      <th>Survived</th>\n",
       "    </tr>\n",
       "  </thead>\n",
       "  <tbody>\n",
       "    <tr>\n",
       "      <th>0</th>\n",
       "      <td>Kid</td>\n",
       "      <td>44</td>\n",
       "      <td>0.704545</td>\n",
       "    </tr>\n",
       "    <tr>\n",
       "      <th>1</th>\n",
       "      <td>NO</td>\n",
       "      <td>177</td>\n",
       "      <td>0.293785</td>\n",
       "    </tr>\n",
       "    <tr>\n",
       "      <th>2</th>\n",
       "      <td>YES</td>\n",
       "      <td>670</td>\n",
       "      <td>0.386567</td>\n",
       "    </tr>\n",
       "  </tbody>\n",
       "</table>\n",
       "</div>"
      ],
      "text/plain": [
       "  Age_category  Amount  Survived\n",
       "0          Kid      44  0.704545\n",
       "1           NO     177  0.293785\n",
       "2          YES     670  0.386567"
      ]
     },
     "execution_count": 22,
     "metadata": {},
     "output_type": "execute_result"
    }
   ],
   "source": [
    "#titanic_df['Age_category'] = pd.cut(titanic_df.Age, bins=[0,5,90], labels=['Kid','Others']) \n",
    "titanic_df['Age_category']  = titanic_df.Age.apply(lambda x: np.where(x <=5, 'Kid', np.where(x>5, 'YES', 'NO')))\n",
    "titanic_df.groupby(['Age_category'], as_index=False).agg({'PassengerId':'count', 'Survived':'mean'}).rename(columns={'PassengerId':'Amount'})\n",
    "# Дети до 5 выживают значительно лучше, чем все остальные"
   ]
  },
  {
   "cell_type": "code",
   "execution_count": 23,
   "id": "authorized-carolina",
   "metadata": {},
   "outputs": [],
   "source": [
    "# применим 2 варианта\n",
    "for dataset in data:\n",
    "    dataset['Age_cat1'] = dataset.Age.apply(lambda x: np.where(x <=5, 'Kid', np.where(x>5, 'Yes', 'No')))\n",
    "    dataset['Age_cat2'] = pd.cut(dataset.Age_new, bins=[0,5,90], labels=['Kids','Others']) "
   ]
  },
  {
   "cell_type": "markdown",
   "id": "genetic-bench",
   "metadata": {},
   "source": [
    "**FARE**"
   ]
  },
  {
   "cell_type": "markdown",
   "id": "demanding-intellectual",
   "metadata": {},
   "source": [
    "- мы видели выше, что погибло очень много пассажиров с дешевыми билетами\n",
    "- создадим 3 категории пассажиров: с билетами до 11, до 50 и остальные"
   ]
  },
  {
   "cell_type": "code",
   "execution_count": 24,
   "id": "psychological-flush",
   "metadata": {},
   "outputs": [
    {
     "data": {
      "image/png": "[encoded data removed]",
      "text/plain": [
       "<Figure size 1008x288 with 1 Axes>"
      ]
     },
     "metadata": {
      "needs_background": "light"
     },
     "output_type": "display_data"
    }
   ],
   "source": [
    "fig_dims = (14, 4)\n",
    "fig, ax = plt.subplots(figsize=fig_dims)\n",
    "sns.scatterplot(x=titanic_df[\"Age\"], y=titanic_df[\"Fare\"], hue=titanic_df[\"Survived\"], style=titanic_df['Sex'])\n",
    "ax.set_ylim(-1, 80)\n",
    "plt.show()\n",
    "# основано на данных до компенсации возраста, показаны только значения Fare в диапазоне  0-80"
   ]
  },
  {
   "cell_type": "markdown",
   "id": "textile-alexandria",
   "metadata": {},
   "source": [
    "**Покажем, что между Survived и Fare существует взаимосвязь**"
   ]
  },
  {
   "cell_type": "code",
   "execution_count": 173,
   "id": "political-quantum",
   "metadata": {
    "tags": []
   },
   "outputs": [
    {
     "data": {
      "image/png": "[encoded data removed]",
      "text/plain": [
       "<Figure size 432x288 with 2 Axes>"
      ]
     },
     "metadata": {
      "needs_background": "light"
     },
     "output_type": "display_data"
    }
   ],
   "source": [
    "fare = trd.copy()[['Fare', 'Survived']]\n",
    "fare.loc[:,'Survived'].replace([0,1],['No','Yes'], inplace=True)\n",
    "fare.hist(column=\"Fare\",by=\"Survived\",sharey=True);\n"
   ]
  },
  {
   "cell_type": "code",
   "execution_count": 192,
   "id": "functioning-bridges",
   "metadata": {},
   "outputs": [
    {
     "data": {
      "text/html": [
       "<div>\n",
       "<style scoped>\n",
       "    .dataframe tbody tr th:only-of-type {\n",
       "        vertical-align: middle;\n",
       "    }\n",
       "\n",
       "    .dataframe tbody tr th {\n",
       "        vertical-align: top;\n",
       "    }\n",
       "\n",
       "    .dataframe thead th {\n",
       "        text-align: right;\n",
       "    }\n",
       "</style>\n",
       "<table border=\"1\" class=\"dataframe\">\n",
       "  <thead>\n",
       "    <tr style=\"text-align: right;\">\n",
       "      <th>fare_groups</th>\n",
       "      <th>Chip</th>\n",
       "      <th>Mid</th>\n",
       "      <th>Others</th>\n",
       "    </tr>\n",
       "    <tr>\n",
       "      <th>Survived</th>\n",
       "      <th></th>\n",
       "      <th></th>\n",
       "      <th></th>\n",
       "    </tr>\n",
       "  </thead>\n",
       "  <tbody>\n",
       "    <tr>\n",
       "      <th>No</th>\n",
       "      <td>288</td>\n",
       "      <td>210</td>\n",
       "      <td>51</td>\n",
       "    </tr>\n",
       "    <tr>\n",
       "      <th>Yes</th>\n",
       "      <td>76</td>\n",
       "      <td>157</td>\n",
       "      <td>109</td>\n",
       "    </tr>\n",
       "  </tbody>\n",
       "</table>\n",
       "</div>"
      ],
      "text/plain": [
       "fare_groups  Chip  Mid  Others\n",
       "Survived                      \n",
       "No            288  210      51\n",
       "Yes            76  157     109"
      ]
     },
     "execution_count": 192,
     "metadata": {},
     "output_type": "execute_result"
    }
   ],
   "source": [
    "fare.loc[:,'fare_groups'] = pd.cut(fare.Fare, bins=[-1,11,50, 515], labels=['Chip','Mid', 'Others'])\n",
    "fare['Count'] = 1\n",
    "fare_grouped = fare.groupby(['Survived', 'fare_groups'], as_index=False).Count.sum()\n",
    "fare_observation = fare_grouped.pivot(index='Survived', columns='fare_groups', values='Count')\n",
    "fare_observation "
   ]
  },
  {
   "cell_type": "markdown",
   "id": "outer-mercy",
   "metadata": {},
   "source": [
    "H_0: the observed frequencies of two categories in the table are independent (there is no relationship between the Survived and Fare variables)\n",
    "\n",
    "H_1: the observed frequencies of two categories in the table are dependent (there is relationship between the Survived and Fare variables)"
   ]
  },
  {
   "cell_type": "code",
   "execution_count": 193,
   "id": "cross-workplace",
   "metadata": {},
   "outputs": [
    {
     "name": "stdout",
     "output_type": "stream",
     "text": [
      "chi2:109.9975884442671\n",
      "degree_of_freedom:2\n",
      "p-value:1.301149376636145e-24\n"
     ]
    }
   ],
   "source": [
    "from scipy.stats import chi2_contingency\n",
    "\n",
    "# Chi-square statistic\n",
    "chi2, p_value, degree_of_freedom, expected = chi2_contingency(fare_observation)\n",
    "\n",
    "print('chi2:{}\\ndegree_of_freedom:{}\\np-value:{}'.format(chi2,degree_of_freedom,p_value))\n",
    "# p-value = 1.3*10^(-24) < 0.05 --> we regect H_0 --> there is relationship between the Survived and Fare variables"
   ]
  },
  {
   "cell_type": "code",
   "execution_count": 25,
   "id": "innocent-fraction",
   "metadata": {},
   "outputs": [
    {
     "data": {
      "text/html": [
       "<div>\n",
       "<style scoped>\n",
       "    .dataframe tbody tr th:only-of-type {\n",
       "        vertical-align: middle;\n",
       "    }\n",
       "\n",
       "    .dataframe tbody tr th {\n",
       "        vertical-align: top;\n",
       "    }\n",
       "\n",
       "    .dataframe thead th {\n",
       "        text-align: right;\n",
       "    }\n",
       "</style>\n",
       "<table border=\"1\" class=\"dataframe\">\n",
       "  <thead>\n",
       "    <tr style=\"text-align: right;\">\n",
       "      <th></th>\n",
       "      <th>Fare_category</th>\n",
       "      <th>Amount</th>\n",
       "      <th>Survived</th>\n",
       "    </tr>\n",
       "  </thead>\n",
       "  <tbody>\n",
       "    <tr>\n",
       "      <th>0</th>\n",
       "      <td>Chip</td>\n",
       "      <td>364</td>\n",
       "      <td>0.208791</td>\n",
       "    </tr>\n",
       "    <tr>\n",
       "      <th>1</th>\n",
       "      <td>Mid</td>\n",
       "      <td>367</td>\n",
       "      <td>0.427793</td>\n",
       "    </tr>\n",
       "    <tr>\n",
       "      <th>2</th>\n",
       "      <td>Others</td>\n",
       "      <td>160</td>\n",
       "      <td>0.681250</td>\n",
       "    </tr>\n",
       "  </tbody>\n",
       "</table>\n",
       "</div>"
      ],
      "text/plain": [
       "  Fare_category  Amount  Survived\n",
       "0          Chip     364  0.208791\n",
       "1           Mid     367  0.427793\n",
       "2        Others     160  0.681250"
      ]
     },
     "execution_count": 25,
     "metadata": {},
     "output_type": "execute_result"
    }
   ],
   "source": [
    "trd['Fare_category'] = pd.cut(trd.Fare, bins=[-1,11,50, 515], labels=['Chip','Mid', 'Others']) \n",
    "trd.groupby(['Fare_category'], as_index=False).agg({'PassengerId':'count', 'Survived':'mean'}).rename(columns={'PassengerId':'Amount'})\n",
    "# видим, что пассажиры с билетами стоимостью до 11$ имеют шансы выжить хуже"
   ]
  },
  {
   "cell_type": "code",
   "execution_count": 133,
   "id": "worthy-drink",
   "metadata": {},
   "outputs": [],
   "source": [
    "# применим 3 билетные группы:билеты до 11$, 50$  и остальные\n",
    "for dataset in data:\n",
    "    dataset['Fare_category'] = pd.cut(dataset.Fare, bins=[-1,11,50, 515], labels=['Chip','Mid', 'Others']) "
   ]
  },
  {
   "cell_type": "markdown",
   "id": "social-percentage",
   "metadata": {},
   "source": [
    "**Перед выбором признаков посмотрим на корреляционную матрицу**"
   ]
  },
  {
   "cell_type": "code",
   "execution_count": 27,
   "id": "confirmed-arnold",
   "metadata": {
    "tags": []
   },
   "outputs": [
    {
     "data": {
      "image/png": "[encoded data removed]",
      "text/plain": [
       "<Figure size 720x504 with 2 Axes>"
      ]
     },
     "metadata": {
      "needs_background": "light"
     },
     "output_type": "display_data"
    }
   ],
   "source": [
    "# посмотрим что дали дополнительные признаки\n",
    "plt.figure(figsize=(10,7))\n",
    "ax = plt.axes()\n",
    "\n",
    "train_corr=trd.copy().drop('PassengerId', axis=1)\n",
    "\n",
    "# переведем категории в цифры\n",
    "train_corr.Sex=lb_make.fit_transform(train_corr.Sex)\n",
    "train_corr.Embarked=lb_make.fit_transform(train_corr.Embarked) \n",
    "train_corr.Family1=lb_make.fit_transform(train_corr.Family1)\n",
    "train_corr.Family2=lb_make.fit_transform(train_corr.Family2) \n",
    "train_corr.Age_cat1=lb_make.fit_transform(train_corr.Age_cat1)\n",
    "train_corr.Age_cat2=lb_make.fit_transform(train_corr.Age_cat2) \n",
    "train_corr.Fare_category=lb_make.fit_transform(train_corr.Fare_category) \n",
    "\n",
    "features_corr = sns.heatmap(train_corr.corr(), annot=True, cmap='coolwarm') \n",
    "features_corr=features_corr.set_yticklabels(features_corr.get_yticklabels(), rotation=0, horizontalalignment='right')\n",
    "ax.set_title('OBSERVATION #4 FEATURES CORRELATION')\n",
    "plt.show()"
   ]
  },
  {
   "cell_type": "markdown",
   "id": "medical-census",
   "metadata": {},
   "source": [
    "Оставим для обучения признаки с наибольшим значениями в матрице корреляции по отношению к Survived:\n",
    "\n",
    "'Sex','Pclass','Fare','Fare_category','Embarked','Age_new','Family1','Family2','Age_cat2'"
   ]
  },
  {
   "cell_type": "markdown",
   "id": "proof-corrections",
   "metadata": {},
   "source": [
    "**Для дальнейшей работы нам нужно убрать лишние колонки и перевести все данные типа object в тип category**"
   ]
  },
  {
   "cell_type": "code",
   "execution_count": 28,
   "id": "heated-bicycle",
   "metadata": {},
   "outputs": [
    {
     "name": "stdout",
     "output_type": "stream",
     "text": [
      "<class 'pandas.core.frame.DataFrame'>\n",
      "RangeIndex: 891 entries, 0 to 890\n",
      "Data columns (total 18 columns):\n",
      " #   Column         Non-Null Count  Dtype   \n",
      "---  ------         --------------  -----   \n",
      " 0   PassengerId    891 non-null    int64   \n",
      " 1   Survived       891 non-null    int64   \n",
      " 2   Pclass         891 non-null    int64   \n",
      " 3   Name           891 non-null    object  \n",
      " 4   Sex            891 non-null    object  \n",
      " 5   Age            714 non-null    float64 \n",
      " 6   SibSp          891 non-null    int64   \n",
      " 7   Parch          891 non-null    int64   \n",
      " 8   Fare           891 non-null    float64 \n",
      " 9   Embarked       889 non-null    object  \n",
      " 10  Title          891 non-null    object  \n",
      " 11  Age_new        891 non-null    float64 \n",
      " 12  Family         891 non-null    int64   \n",
      " 13  Family2        891 non-null    category\n",
      " 14  Family1        891 non-null    category\n",
      " 15  Age_cat1       891 non-null    object  \n",
      " 16  Age_cat2       891 non-null    category\n",
      " 17  Fare_category  891 non-null    category\n",
      "dtypes: category(4), float64(3), int64(6), object(5)\n",
      "memory usage: 101.6+ KB\n"
     ]
    }
   ],
   "source": [
    "trd.info()"
   ]
  },
  {
   "cell_type": "code",
   "execution_count": 29,
   "id": "noticed-decade",
   "metadata": {},
   "outputs": [],
   "source": [
    "for dataset in data:\n",
    "    dataset.drop(['Name', 'Title', 'Age', 'SibSp', 'Parch', 'Family', 'Age_cat1'], axis=1, inplace=True)\n",
    "    dataset['Sex'] = dataset.Sex.astype('category')\n",
    "    dataset['Embarked'] = dataset.Embarked.astype('category')\n",
    "    dataset['Pclass'] = dataset.Pclass.astype('category')\n",
    "  "
   ]
  },
  {
   "cell_type": "code",
   "execution_count": 30,
   "id": "tight-branch",
   "metadata": {},
   "outputs": [
    {
     "name": "stdout",
     "output_type": "stream",
     "text": [
      "<class 'pandas.core.frame.DataFrame'>\n",
      "RangeIndex: 891 entries, 0 to 890\n",
      "Data columns (total 11 columns):\n",
      " #   Column         Non-Null Count  Dtype   \n",
      "---  ------         --------------  -----   \n",
      " 0   PassengerId    891 non-null    int64   \n",
      " 1   Survived       891 non-null    int64   \n",
      " 2   Pclass         891 non-null    category\n",
      " 3   Sex            891 non-null    category\n",
      " 4   Fare           891 non-null    float64 \n",
      " 5   Embarked       889 non-null    category\n",
      " 6   Age_new        891 non-null    float64 \n",
      " 7   Family2        891 non-null    category\n",
      " 8   Family1        891 non-null    category\n",
      " 9   Age_cat2       891 non-null    category\n",
      " 10  Fare_category  891 non-null    category\n",
      "dtypes: category(7), float64(2), int64(2)\n",
      "memory usage: 34.9 KB\n"
     ]
    }
   ],
   "source": [
    "trd.info()"
   ]
  },
  {
   "cell_type": "code",
   "execution_count": 134,
   "id": "according-blowing",
   "metadata": {},
   "outputs": [
    {
     "data": {
      "text/html": [
       "<div>\n",
       "<style scoped>\n",
       "    .dataframe tbody tr th:only-of-type {\n",
       "        vertical-align: middle;\n",
       "    }\n",
       "\n",
       "    .dataframe tbody tr th {\n",
       "        vertical-align: top;\n",
       "    }\n",
       "\n",
       "    .dataframe thead th {\n",
       "        text-align: right;\n",
       "    }\n",
       "</style>\n",
       "<table border=\"1\" class=\"dataframe\">\n",
       "  <thead>\n",
       "    <tr style=\"text-align: right;\">\n",
       "      <th></th>\n",
       "      <th>index</th>\n",
       "      <th>train</th>\n",
       "      <th>test</th>\n",
       "    </tr>\n",
       "  </thead>\n",
       "  <tbody>\n",
       "    <tr>\n",
       "      <th>0</th>\n",
       "      <td>PassengerId</td>\n",
       "      <td>0</td>\n",
       "      <td>0</td>\n",
       "    </tr>\n",
       "    <tr>\n",
       "      <th>1</th>\n",
       "      <td>Pclass</td>\n",
       "      <td>0</td>\n",
       "      <td>0</td>\n",
       "    </tr>\n",
       "    <tr>\n",
       "      <th>2</th>\n",
       "      <td>Sex</td>\n",
       "      <td>0</td>\n",
       "      <td>0</td>\n",
       "    </tr>\n",
       "    <tr>\n",
       "      <th>3</th>\n",
       "      <td>Fare</td>\n",
       "      <td>0</td>\n",
       "      <td>1</td>\n",
       "    </tr>\n",
       "    <tr>\n",
       "      <th>4</th>\n",
       "      <td>Embarked</td>\n",
       "      <td>2</td>\n",
       "      <td>0</td>\n",
       "    </tr>\n",
       "    <tr>\n",
       "      <th>5</th>\n",
       "      <td>Age_new</td>\n",
       "      <td>0</td>\n",
       "      <td>0</td>\n",
       "    </tr>\n",
       "    <tr>\n",
       "      <th>6</th>\n",
       "      <td>Family2</td>\n",
       "      <td>0</td>\n",
       "      <td>0</td>\n",
       "    </tr>\n",
       "    <tr>\n",
       "      <th>7</th>\n",
       "      <td>Family1</td>\n",
       "      <td>0</td>\n",
       "      <td>0</td>\n",
       "    </tr>\n",
       "    <tr>\n",
       "      <th>8</th>\n",
       "      <td>Age_cat2</td>\n",
       "      <td>0</td>\n",
       "      <td>0</td>\n",
       "    </tr>\n",
       "    <tr>\n",
       "      <th>9</th>\n",
       "      <td>Fare_category</td>\n",
       "      <td>0</td>\n",
       "      <td>1</td>\n",
       "    </tr>\n",
       "  </tbody>\n",
       "</table>\n",
       "</div>"
      ],
      "text/plain": [
       "           index  train  test\n",
       "0    PassengerId      0     0\n",
       "1         Pclass      0     0\n",
       "2            Sex      0     0\n",
       "3           Fare      0     1\n",
       "4       Embarked      2     0\n",
       "5        Age_new      0     0\n",
       "6        Family2      0     0\n",
       "7        Family1      0     0\n",
       "8       Age_cat2      0     0\n",
       "9  Fare_category      0     1"
      ]
     },
     "execution_count": 134,
     "metadata": {},
     "output_type": "execute_result"
    }
   ],
   "source": [
    "# check for missing data\n",
    "train_missing = trd.isnull().sum().to_frame().reset_index()\n",
    "test_missing = ted.isnull().sum().to_frame().reset_index()\n",
    "missing_data = train_missing.merge(test_missing, on='index').rename(columns={'0_x':'train', '0_y':'test'})\n",
    "missing_data"
   ]
  },
  {
   "cell_type": "markdown",
   "id": "widespread-boston",
   "metadata": {},
   "source": [
    "пропущенные данные будут заполнены дальше"
   ]
  },
  {
   "cell_type": "markdown",
   "id": "consecutive-shadow",
   "metadata": {},
   "source": [
    "# **III. SUPERVISED LEARNING**"
   ]
  },
  {
   "cell_type": "code",
   "execution_count": 32,
   "id": "marked-computer",
   "metadata": {},
   "outputs": [],
   "source": [
    "models_result = pd.DataFrame()"
   ]
  },
  {
   "cell_type": "code",
   "execution_count": 66,
   "id": "waiting-decimal",
   "metadata": {},
   "outputs": [],
   "source": [
    "\n",
    "def models(X, y):\n",
    "    global models_result\n",
    "    \"\"\"\n",
    "    Функция \n",
    "    - трансформирует данные: применяет StandardScaler к числовым данным и кодирует категориальные данные;\n",
    "    - применяет GridSearchCV для тюнига гиперпараметров\n",
    "    - оценивает модели на валидационных данных и записывает оценки в df\n",
    "    - демонстрирует полученные оценки по каждой модели и показывает важность признаков через permutation_importance plot\n",
    "    - возвращает 4 модели: RandomForestClassifier, DecisionTreeClassifier, GradientBoostingClassifier, VotingClassifier\n",
    "    \"\"\"\n",
    "    X_train, X_valid, y_train, y_valid = train_test_split(X, y, test_size=0.25, random_state=42)\n",
    "\n",
    "    # ######### preprocessing ##########################################\n",
    "    numeric_transformer = Pipeline(\n",
    "        steps=[(\"imputer\", SimpleImputer(strategy=\"median\")), (\"scaler\",StandardScaler())] \n",
    "        )\n",
    "\n",
    "    categorical_transformer = Pipeline(\n",
    "        steps=[(\"imputer\", SimpleImputer(strategy=\"most_frequent\")),('encoder',OneHotEncoder(handle_unknown=\"ignore\"))]\n",
    "        )\n",
    "\n",
    "    preprocessor = ColumnTransformer(\n",
    "        transformers=[\n",
    "            (\"num\", numeric_transformer, selector(dtype_exclude=\"category\")),\n",
    "            (\"cat\", categorical_transformer, selector(dtype_include=\"category\")),\n",
    "        ]\n",
    "    )\n",
    "    # ######### RandomForestClassifier #################################\n",
    "\n",
    "    pipe_RFC = Pipeline(\n",
    "        steps=[(\"preprocessor\", preprocessor), (\"classifier\", RandomForestClassifier(random_state=42))] \n",
    "    )\n",
    "\n",
    "    parameter_grid = {'classifier__criterion': [None],\n",
    "                        'classifier__min_samples_split':[sp_randint.rvs(2,14,2)],\n",
    "                        'classifier__min_samples_leaf': [sp_randint.rvs(10,16,2)],\n",
    "                        'classifier__n_estimators' : [sp_randint.rvs(500,600,50)],\n",
    "                        'classifier__criterion': [\"gini\", \"entropy\"]}\n",
    "\n",
    "    gsRFC = GridSearchCV(estimator=pipe_RFC, param_grid = parameter_grid, cv=K_fold, scoring=\"accuracy\", n_jobs= -1, verbose = 1) \n",
    "\n",
    "    gsRFC = gsRFC.fit(X_train, y_train)\n",
    "\n",
    "    modelRFC = gsRFC.best_estimator_\n",
    "    # ########################\n",
    "    result = permutation_importance(\n",
    "        gsRFC, X_train, y_train, n_repeats=10, random_state=42, n_jobs=2\n",
    "    )\n",
    "    sorted_idx = result.importances_mean.argsort()\n",
    "\n",
    "    fig, ax = plt.subplots()\n",
    "    ax.boxplot(\n",
    "        result.importances[sorted_idx].T, vert=False, labels=X_train.columns[sorted_idx]\n",
    "    )\n",
    "    ax.set_title(\"RFC: Permutation Importances (train set)\")\n",
    "    fig.tight_layout()\n",
    "    plt.show()\n",
    "    # #######################\n",
    "\n",
    "    y_pred_RFC = modelRFC.predict(X_valid)\n",
    "    print('RFC: ', X_train.columns)\n",
    "    print()\n",
    "    print('RandomForestClassifier (RFC): classification_report for validation test')\n",
    "    print()\n",
    "    print(classification_report(y_valid,y_pred_RFC))\n",
    "\n",
    "    accuracy_RFC = cross_val_score(estimator=modelRFC, X=X_train, y=y_train, cv=K_fold, scoring='accuracy')\n",
    "    f1_RFC = cross_val_score(estimator=modelRFC, X=X_train, y=y_train, cv=K_fold, scoring='f1')\n",
    "    ROCAUC_RFC = cross_val_score(estimator=modelRFC, X=X_train, y=y_train, cv=K_fold, scoring='roc_auc')\n",
    "    print(f'RFC_validation test: accuracy - {accuracy_RFC.mean()}, f1 - {f1_RFC.mean()}, roc_auc - {ROCAUC_RFC.mean()}')\n",
    "\n",
    "#     results_dict = {'type':['RFC'],\n",
    "#                     'len': [len(X_train.columns)],\n",
    "#                     'features':[list(X_train.columns)],\n",
    "#                     'model':[modelRFC], \n",
    "#                     'accuracy':[accuracy_RFC.mean()],\n",
    "#                     'f1':[f1_RFC.mean()],\n",
    "#                     'ROC-AUC':[ROCAUC_RFC.mean()],\n",
    "#                     'kaggle_score':[''],\n",
    "#                    }\n",
    "\n",
    "\n",
    "#     result = pd.DataFrame.from_dict(results_dict)\n",
    "#     models_result = models_result.append(result)\n",
    "    print('#########################################################')\n",
    "\n",
    "    # ######### DecissionTreeClassifier ################################\n",
    "\n",
    "    pipe_DTC = Pipeline(\n",
    "        steps=[(\"preprocessor\", preprocessor), (\"classifier\", DecisionTreeClassifier(random_state=42))])\n",
    "\n",
    "    parameter_grid = {'classifier__max_depth':[1,2],\n",
    "                      'classifier__ccp_alpha':[0.001, 0.1, 100]}\n",
    "\n",
    "    gsDTC = GridSearchCV(estimator=pipe_DTC, param_grid = parameter_grid, cv=K_fold,scoring=\"accuracy\", n_jobs= -1, verbose = 1) \n",
    "\n",
    "    gsDTC = gsDTC.fit(X_train, y_train)\n",
    "\n",
    "    modelDTC = gsDTC.best_estimator_\n",
    "\n",
    "    # #######################\n",
    "    result = permutation_importance(\n",
    "        gsDTC, X_train, y_train, n_repeats=10, random_state=42, n_jobs=2\n",
    "    )\n",
    "    sorted_idx = result.importances_mean.argsort()\n",
    "\n",
    "    fig, ax = plt.subplots()\n",
    "    ax.boxplot(\n",
    "        result.importances[sorted_idx].T, vert=False, labels=X_train.columns[sorted_idx]\n",
    "    )\n",
    "    ax.set_title(\"DTC: Permutation Importances (train set)\")\n",
    "    fig.tight_layout()\n",
    "    plt.show()\n",
    "    # #######################\n",
    "\n",
    "    y_pred_DTC = modelDTC.predict(X_valid)\n",
    "    print('DTC: ', X_train.columns)\n",
    "    print()\n",
    "    print('DecisionTreeClassifier (DTC): classification_report for validation test')\n",
    "    print()\n",
    "    print(classification_report(y_valid,y_pred_DTC))\n",
    "\n",
    "    accuracy_DTC = cross_val_score(estimator=modelDTC, X=X_train, y=y_train, cv=K_fold, scoring='accuracy')\n",
    "    f1_DTC = cross_val_score(estimator=modelDTC, X=X_train, y=y_train, cv=K_fold, scoring='f1')\n",
    "    ROCAUC_DTC = cross_val_score(estimator=modelDTC, X=X_train, y=y_train, cv=K_fold, scoring='roc_auc')\n",
    "    print(f'DTC_validation test: accuracy - {accuracy_DTC.mean()}, f1 - {f1_DTC.mean()}, roc_auc - {ROCAUC_DTC.mean()}')\n",
    "\n",
    "#     results_dict = {'type':['DTC'],\n",
    "#                     'len': [len(X_train.columns)],\n",
    "#                     'features':[list(X_train.columns)],\n",
    "#                     'model':[modelDTC], \n",
    "#                     'accuracy':[accuracy_DTC.mean()],\n",
    "#                     'f1':[f1_DTC.mean()],\n",
    "#                     'ROC-AUC':[ROCAUC_DTC.mean()],\n",
    "#                     'kaggle_score':[''],\n",
    "#                    }\n",
    "\n",
    "\n",
    "#     result = pd.DataFrame.from_dict(results_dict)\n",
    "#     models_result = models_result.append(result)\n",
    "    print('#########################################################')\n",
    "\n",
    "    # ######### GradientBoostingClassifier ################################\n",
    "\n",
    "    pipe_GBC = Pipeline(\n",
    "        steps=[(\"preprocessor\", preprocessor),(\"classifier\", GradientBoostingClassifier(random_state=42))] \n",
    "    )\n",
    "\n",
    "    # GBC.get_params().keys()\n",
    "    gb_param_grid = {\n",
    "                   'classifier__criterion': ['friedman_mse', 'squared_error', 'mse'],\n",
    "                  'classifier__loss' : [\"deviance\"],\n",
    "                  'classifier__n_estimators' : [sp_randint.rvs(100,500,100)],\n",
    "                  'classifier__learning_rate': [uniform.rvs(0.001, 0.1)],\n",
    "                  'classifier__max_depth': [sp_randint.rvs(4,16, 4)],\n",
    "                  'classifier__min_samples_leaf': [sp_randint.rvs(100,250,50)],\n",
    "                  'classifier__max_features': [0.3, 0.1]\n",
    "                  }\n",
    "\n",
    "    gsGBC = GridSearchCV(pipe_GBC, param_grid = gb_param_grid, cv=K_fold, \n",
    "                         scoring=\"accuracy\", n_jobs= 4, verbose = 1)\n",
    "\n",
    "    gsGBC.fit(X_train,y_train)\n",
    "\n",
    "    modelGBC = gsGBC.best_estimator_\n",
    "    # #######################\n",
    "    result = permutation_importance(\n",
    "        gsGBC, X_train, y_train, n_repeats=10, random_state=42, n_jobs=2\n",
    "    )\n",
    "    sorted_idx = result.importances_mean.argsort()\n",
    "\n",
    "    fig, ax = plt.subplots()\n",
    "    ax.boxplot(\n",
    "        result.importances[sorted_idx].T, vert=False, labels=X_train.columns[sorted_idx]\n",
    "    )\n",
    "    ax.set_title(\"GBC: Permutation Importances (train set)\")\n",
    "    fig.tight_layout()\n",
    "    plt.show()\n",
    "    # #######################\n",
    "\n",
    "    y_pred_GBC = modelGBC.predict(X_valid)\n",
    "    print('GDC: ', X_train.columns)\n",
    "    print()\n",
    "    print('GradientBoostingClassifier (GBC): classification_report for validation test')\n",
    "    print()\n",
    "    print(classification_report(y_valid,y_pred_GBC, labels=np.unique(y_pred_GBC)))\n",
    " \n",
    "    accuracy_GBC = cross_val_score(estimator=modelGBC, X=X_train, y=y_train, cv=K_fold, scoring='accuracy')\n",
    "    f1_GBC = cross_val_score(estimator=modelGBC, X=X_train, y=y_train, cv=K_fold, scoring='f1')\n",
    "    ROCAUC_GBC = cross_val_score(estimator=modelGBC, X=X_train, y=y_train, cv=K_fold, scoring='roc_auc')\n",
    "    print(f'GBC_validation test: accuracy - {accuracy_GBC.mean()}, f1 - {f1_GBC.mean()}, roc_auc - {ROCAUC_GBC.mean()}')\n",
    "\n",
    "\n",
    "#     results_dict = {'type':['GBC'],\n",
    "#                     'len': [len(X_train.columns)],\n",
    "#                     'features':[list(X_train.columns)],\n",
    "#                     'model':[modelGBC], \n",
    "#                     'accuracy':[accuracy_GBC.mean()],\n",
    "#                     'f1':[f1_GBC.mean()],\n",
    "#                     'ROC-AUC':[ROCAUC_GBC.mean()],\n",
    "#                     'kaggle_score':[''],\n",
    "#                    }\n",
    "\n",
    "\n",
    "#     result = pd.DataFrame.from_dict(results_dict)\n",
    "#     models_result = models_result.append(result)\n",
    "    print('#########################################################')\n",
    "\n",
    "    # ########## VotingClassifier #####################################\n",
    "\n",
    "    VotingPredictor = VotingClassifier(estimators =\n",
    "                               [ \n",
    "                                ('dtc', modelDTC),\n",
    "                                ('rfc', modelRFC),\n",
    "                               ],\n",
    "                               voting='soft', n_jobs = 4)\n",
    "\n",
    "    VotingPredictor = VotingPredictor.fit(X_train, y_train)\n",
    "\n",
    "    accuracy_VOT = cross_val_score(estimator=VotingPredictor, X=X_train, y=y_train, cv=K_fold, scoring='accuracy')\n",
    "    f1_VOT = cross_val_score(estimator=VotingPredictor, X=X_train, y=y_train, cv=K_fold, scoring='f1')\n",
    "    ROCAUC_VOT = cross_val_score(estimator=VotingPredictor, X=X_train, y=y_train, cv=K_fold, scoring='roc_auc')\n",
    "\n",
    "    print('VotingClassifier: ', X_train.columns)\n",
    "    print(f'VotingClassifier_validation test: accuracy - {accuracy_VOT.mean()}, f1 - {f1_VOT.mean()}, roc_auc - {ROCAUC_VOT.mean()}')\n",
    "\n",
    "#     results_dict = {'type':['VotingClassifier'],\n",
    "#                     'len': [len(X_train.columns)],\n",
    "#                     'features':[list(X_train.columns)],\n",
    "#                     'model':[VotingPredictor], \n",
    "#                     'accuracy':[accuracy_VOT.mean()],\n",
    "#                     'f1':[f1_VOT.mean()],\n",
    "#                     'ROC-AUC':[ROCAUC_VOT.mean()],\n",
    "#                     'kaggle_score':[''],\n",
    "#                    }\n",
    "\n",
    "#     result = pd.DataFrame.from_dict(results_dict)\n",
    "#     models_result = models_result.append(result)\n",
    "    print('#########################################################')\n",
    "    print()\n",
    "    return modelRFC, modelDTC, modelGBC, VotingPredictor"
   ]
  },
  {
   "cell_type": "code",
   "execution_count": 128,
   "id": "nearby-kitty",
   "metadata": {},
   "outputs": [
    {
     "name": "stdout",
     "output_type": "stream",
     "text": [
      "Fitting 10 folds for each of 2 candidates, totalling 20 fits\n"
     ]
    },
    {
     "data": {
      "image/png": "[encoded data removed]",
      "text/plain": [
       "<Figure size 432x288 with 1 Axes>"
      ]
     },
     "metadata": {
      "needs_background": "light"
     },
     "output_type": "display_data"
    },
    {
     "name": "stdout",
     "output_type": "stream",
     "text": [
      "RFC:  Index(['Sex', 'Pclass', 'Fare'], dtype='object')\n",
      "\n",
      "RandomForestClassifier (RFC): classification_report for validation test\n",
      "\n",
      "              precision    recall  f1-score   support\n",
      "\n",
      "           0       0.80      0.90      0.85       134\n",
      "           1       0.82      0.65      0.72        89\n",
      "\n",
      "    accuracy                           0.80       223\n",
      "   macro avg       0.81      0.78      0.79       223\n",
      "weighted avg       0.80      0.80      0.80       223\n",
      "\n",
      "RFC_validation test: accuracy - 0.7979647218453187, f1 - 0.6805288119059815, roc_auc - 0.8169397837934425\n",
      "#########################################################\n",
      "Fitting 10 folds for each of 6 candidates, totalling 60 fits\n"
     ]
    },
    {
     "data": {
      "image/png": "[encoded data removed]",
      "text/plain": [
       "<Figure size 432x288 with 1 Axes>"
      ]
     },
     "metadata": {
      "needs_background": "light"
     },
     "output_type": "display_data"
    },
    {
     "name": "stdout",
     "output_type": "stream",
     "text": [
      "DTC:  Index(['Sex', 'Pclass', 'Fare'], dtype='object')\n",
      "\n",
      "DecisionTreeClassifier (DTC): classification_report for validation test\n",
      "\n",
      "              precision    recall  f1-score   support\n",
      "\n",
      "           0       0.81      0.84      0.82       134\n",
      "           1       0.74      0.71      0.72        89\n",
      "\n",
      "    accuracy                           0.78       223\n",
      "   macro avg       0.78      0.77      0.77       223\n",
      "weighted avg       0.78      0.78      0.78       223\n",
      "\n",
      "DTC_validation test: accuracy - 0.7875169606512891, f1 - 0.7039482328238109, roc_auc - 0.7649198606271778\n",
      "#########################################################\n",
      "Fitting 10 folds for each of 6 candidates, totalling 60 fits\n"
     ]
    },
    {
     "data": {
      "image/png": "[encoded data removed]",
      "text/plain": [
       "<Figure size 432x288 with 1 Axes>"
      ]
     },
     "metadata": {
      "needs_background": "light"
     },
     "output_type": "display_data"
    },
    {
     "name": "stdout",
     "output_type": "stream",
     "text": [
      "GDC:  Index(['Sex', 'Pclass', 'Fare'], dtype='object')\n",
      "\n",
      "GradientBoostingClassifier (GBC): classification_report for validation test\n",
      "\n",
      "              precision    recall  f1-score   support\n",
      "\n",
      "           0       0.77      0.72      0.74       134\n",
      "           1       0.61      0.67      0.64        89\n",
      "\n",
      "    accuracy                           0.70       223\n",
      "   macro avg       0.69      0.70      0.69       223\n",
      "weighted avg       0.71      0.70      0.70       223\n",
      "\n",
      "GBC_validation test: accuracy - 0.6751696065128902, f1 - 0.5642199014643233, roc_auc - 0.6980435093361923\n",
      "#########################################################\n",
      "VotingClassifier:  Index(['Sex', 'Pclass', 'Fare'], dtype='object')\n",
      "VotingClassifier_validation test: accuracy - 0.7875169606512891, f1 - 0.7039482328238109, roc_auc - 0.8190512820512821\n",
      "#########################################################\n",
      "\n"
     ]
    }
   ],
   "source": [
    "from itertools import combinations\n",
    "# запускает ф-ю models в виде 1 или 2 варианта\n",
    "train = trd.copy()\n",
    "\n",
    "\"\"\"\"\n",
    "Вариант1: \n",
    " - составляет все возможные комбинации признаков без повторения, без учета порядка (АВ=ВА), мин кол-во признаков = 3\n",
    " - отправляет полученные комбинации в ф-ю models\n",
    "\"\"\"\n",
    "\n",
    "#subset_feature =['Sex','Pclass','Fare','Fare_category','Embarked','Age_new','Family1','Family2','Age_cat2']\n",
    "# count = 0\n",
    "# stop, start = 3, len(subset_feature)+1\n",
    "# for r in range(stop, start):\n",
    "#     features_combinations = list(combinations(subset_feature, r))\n",
    "#     count+=1\n",
    "#     for features in features_combinations:\n",
    "#         X = train[list(features)]\n",
    "#         y = train.Survived\n",
    "#         print(f'# {count} ################################################')\n",
    "#         modelRFC,modelDTC,modelGBC,VotingPredictor   = models(X, y)\n",
    " \n",
    "\"\"\"\"\n",
    "Вариант2: отправляет лист признаков в ф-ю models\n",
    "\"\"\"\n",
    "subset_feature = ['Sex', 'Pclass', 'Fare']\n",
    "X = train[subset_feature]\n",
    "y = train.Survived\n",
    "\n",
    "modelRFC,modelDTC,modelGBC,VotingPredictor  = models(X, y)\n",
    "\n",
    "# переустановка индексов\n",
    "# models_result.reset_index(inplace=True, drop=True)\n"
   ]
  },
  {
   "cell_type": "code",
   "execution_count": 36,
   "id": "funny-kinase",
   "metadata": {},
   "outputs": [],
   "source": [
    "models_result.to_csv('kaggle_titanic_all_features_permutation.csv')"
   ]
  },
  {
   "cell_type": "code",
   "execution_count": 199,
   "id": "lonely-fence",
   "metadata": {},
   "outputs": [
    {
     "data": {
      "text/html": [
       "<div>\n",
       "<style scoped>\n",
       "    .dataframe tbody tr th:only-of-type {\n",
       "        vertical-align: middle;\n",
       "    }\n",
       "\n",
       "    .dataframe tbody tr th {\n",
       "        vertical-align: top;\n",
       "    }\n",
       "\n",
       "    .dataframe thead th {\n",
       "        text-align: right;\n",
       "    }\n",
       "</style>\n",
       "<table border=\"1\" class=\"dataframe\">\n",
       "  <thead>\n",
       "    <tr style=\"text-align: right;\">\n",
       "      <th></th>\n",
       "      <th>Unnamed: 0</th>\n",
       "      <th>type</th>\n",
       "      <th>len</th>\n",
       "      <th>features</th>\n",
       "      <th>model</th>\n",
       "      <th>accuracy</th>\n",
       "      <th>f1</th>\n",
       "      <th>ROC-AUC</th>\n",
       "      <th>kaggle_score</th>\n",
       "    </tr>\n",
       "  </thead>\n",
       "  <tbody>\n",
       "    <tr>\n",
       "      <th>0</th>\n",
       "      <td>0</td>\n",
       "      <td>RFC</td>\n",
       "      <td>3</td>\n",
       "      <td>['Sex', 'Pclass', 'Fare']</td>\n",
       "      <td>Pipeline(steps=[('preprocessor',\\n            ...</td>\n",
       "      <td>0.817458</td>\n",
       "      <td>0.714308</td>\n",
       "      <td>0.824996</td>\n",
       "      <td>0.78468</td>\n",
       "    </tr>\n",
       "    <tr>\n",
       "      <th>8</th>\n",
       "      <td>8</td>\n",
       "      <td>RFC</td>\n",
       "      <td>3</td>\n",
       "      <td>['Sex', 'Pclass', 'Embarked']</td>\n",
       "      <td>Pipeline(steps=[('preprocessor',\\n            ...</td>\n",
       "      <td>0.813026</td>\n",
       "      <td>0.688199</td>\n",
       "      <td>0.827945</td>\n",
       "      <td>0.77751</td>\n",
       "    </tr>\n",
       "    <tr>\n",
       "      <th>340</th>\n",
       "      <td>340</td>\n",
       "      <td>RFC</td>\n",
       "      <td>4</td>\n",
       "      <td>['Sex', 'Pclass', 'Fare', 'Embarked']</td>\n",
       "      <td>Pipeline(steps=[('preprocessor',\\n            ...</td>\n",
       "      <td>0.796517</td>\n",
       "      <td>0.777510</td>\n",
       "      <td>0.777510</td>\n",
       "      <td>0.77751</td>\n",
       "    </tr>\n",
       "    <tr>\n",
       "      <th>1108</th>\n",
       "      <td>1108</td>\n",
       "      <td>RFC</td>\n",
       "      <td>5</td>\n",
       "      <td>['Sex', 'Embarked', 'Age_new', 'Family2', 'Age...</td>\n",
       "      <td>Pipeline(steps=[('preprocessor',\\n            ...</td>\n",
       "      <td>0.806943</td>\n",
       "      <td>0.738786</td>\n",
       "      <td>0.819544</td>\n",
       "      <td>0.77270</td>\n",
       "    </tr>\n",
       "    <tr>\n",
       "      <th>336</th>\n",
       "      <td>336</td>\n",
       "      <td>RFC</td>\n",
       "      <td>4</td>\n",
       "      <td>['Sex', 'Pclass', 'Fare', 'Fare_category']</td>\n",
       "      <td>Pipeline(steps=[('preprocessor',\\n            ...</td>\n",
       "      <td>0.820443</td>\n",
       "      <td>0.721705</td>\n",
       "      <td>0.825642</td>\n",
       "      <td>0.77033</td>\n",
       "    </tr>\n",
       "    <tr>\n",
       "      <th>543</th>\n",
       "      <td>543</td>\n",
       "      <td>VotingClassifier</td>\n",
       "      <td>4</td>\n",
       "      <td>['Sex', 'Embarked', 'Family2', 'Age_cat2']</td>\n",
       "      <td>VotingClassifier(estimators=[('dtc',\\n        ...</td>\n",
       "      <td>0.812935</td>\n",
       "      <td>0.739006</td>\n",
       "      <td>0.808818</td>\n",
       "      <td>0.77033</td>\n",
       "    </tr>\n",
       "    <tr>\n",
       "      <th>544</th>\n",
       "      <td>544</td>\n",
       "      <td>RFC</td>\n",
       "      <td>4</td>\n",
       "      <td>['Sex', 'Age_new', 'Family1', 'Family2']</td>\n",
       "      <td>Pipeline(steps=[('preprocessor',\\n            ...</td>\n",
       "      <td>0.808458</td>\n",
       "      <td>0.745644</td>\n",
       "      <td>0.817055</td>\n",
       "      <td>0.77033</td>\n",
       "    </tr>\n",
       "    <tr>\n",
       "      <th>92</th>\n",
       "      <td>92</td>\n",
       "      <td>RFC</td>\n",
       "      <td>3</td>\n",
       "      <td>['Sex', 'Age_new', 'Family2']</td>\n",
       "      <td>Pipeline(steps=[('preprocessor',\\n            ...</td>\n",
       "      <td>0.808435</td>\n",
       "      <td>0.741398</td>\n",
       "      <td>0.816872</td>\n",
       "      <td>0.76555</td>\n",
       "    </tr>\n",
       "    <tr>\n",
       "      <th>559</th>\n",
       "      <td>559</td>\n",
       "      <td>VotingClassifier</td>\n",
       "      <td>4</td>\n",
       "      <td>['Sex', 'Family1', 'Family2', 'Age_cat2']</td>\n",
       "      <td>VotingClassifier(estimators=[('dtc',\\n        ...</td>\n",
       "      <td>0.812935</td>\n",
       "      <td>0.739006</td>\n",
       "      <td>0.805790</td>\n",
       "      <td>0.76555</td>\n",
       "    </tr>\n",
       "  </tbody>\n",
       "</table>\n",
       "</div>"
      ],
      "text/plain": [
       "      Unnamed: 0              type  len  \\\n",
       "0              0               RFC    3   \n",
       "8              8               RFC    3   \n",
       "340          340               RFC    4   \n",
       "1108        1108               RFC    5   \n",
       "336          336               RFC    4   \n",
       "543          543  VotingClassifier    4   \n",
       "544          544               RFC    4   \n",
       "92            92               RFC    3   \n",
       "559          559  VotingClassifier    4   \n",
       "\n",
       "                                               features  \\\n",
       "0                             ['Sex', 'Pclass', 'Fare']   \n",
       "8                         ['Sex', 'Pclass', 'Embarked']   \n",
       "340               ['Sex', 'Pclass', 'Fare', 'Embarked']   \n",
       "1108  ['Sex', 'Embarked', 'Age_new', 'Family2', 'Age...   \n",
       "336          ['Sex', 'Pclass', 'Fare', 'Fare_category']   \n",
       "543          ['Sex', 'Embarked', 'Family2', 'Age_cat2']   \n",
       "544            ['Sex', 'Age_new', 'Family1', 'Family2']   \n",
       "92                        ['Sex', 'Age_new', 'Family2']   \n",
       "559           ['Sex', 'Family1', 'Family2', 'Age_cat2']   \n",
       "\n",
       "                                                  model  accuracy        f1  \\\n",
       "0     Pipeline(steps=[('preprocessor',\\n            ...  0.817458  0.714308   \n",
       "8     Pipeline(steps=[('preprocessor',\\n            ...  0.813026  0.688199   \n",
       "340   Pipeline(steps=[('preprocessor',\\n            ...  0.796517  0.777510   \n",
       "1108  Pipeline(steps=[('preprocessor',\\n            ...  0.806943  0.738786   \n",
       "336   Pipeline(steps=[('preprocessor',\\n            ...  0.820443  0.721705   \n",
       "543   VotingClassifier(estimators=[('dtc',\\n        ...  0.812935  0.739006   \n",
       "544   Pipeline(steps=[('preprocessor',\\n            ...  0.808458  0.745644   \n",
       "92    Pipeline(steps=[('preprocessor',\\n            ...  0.808435  0.741398   \n",
       "559   VotingClassifier(estimators=[('dtc',\\n        ...  0.812935  0.739006   \n",
       "\n",
       "       ROC-AUC  kaggle_score  \n",
       "0     0.824996       0.78468  \n",
       "8     0.827945       0.77751  \n",
       "340   0.777510       0.77751  \n",
       "1108  0.819544       0.77270  \n",
       "336   0.825642       0.77033  \n",
       "543   0.808818       0.77033  \n",
       "544   0.817055       0.77033  \n",
       "92    0.816872       0.76555  \n",
       "559   0.805790       0.76555  "
      ]
     },
     "execution_count": 199,
     "metadata": {},
     "output_type": "execute_result"
    }
   ],
   "source": [
    "result = pd.read_csv('kaggle_titanic_all_features_permutation.csv')\n",
    "result.sort_values('kaggle_score', ascending=False).head(9)\n",
    "# result.head()"
   ]
  },
  {
   "cell_type": "code",
   "execution_count": null,
   "id": "meaning-subsection",
   "metadata": {},
   "outputs": [],
   "source": [
    "#result.iloc[340, 8] = 0.77751\n",
    "# result.iloc[336, 8] = 0.77033\n",
    "# result.iloc[0, 8]= 0.78468\n",
    "# result.iloc[8, 8]= 0.77751\n",
    "# result.iloc[559, 8]= 0.76555\n",
    "# result.iloc[543, 8]= 0.77033\n",
    "# result.to_csv('kaggle_titanic_all_features_permutation.csv')\n"
   ]
  },
  {
   "cell_type": "code",
   "execution_count": 130,
   "id": "assured-watershed",
   "metadata": {},
   "outputs": [
    {
     "data": {
      "text/html": [
       "<style>#sk-0d7082fc-3178-43e8-a2da-7f65a45d9f2e {color: black;background-color: white;}#sk-0d7082fc-3178-43e8-a2da-7f65a45d9f2e pre{padding: 0;}#sk-0d7082fc-3178-43e8-a2da-7f65a45d9f2e div.sk-toggleable {background-color: white;}#sk-0d7082fc-3178-43e8-a2da-7f65a45d9f2e label.sk-toggleable__label {cursor: pointer;display: block;width: 100%;margin-bottom: 0;padding: 0.3em;box-sizing: border-box;text-align: center;}#sk-0d7082fc-3178-43e8-a2da-7f65a45d9f2e div.sk-toggleable__content {max-height: 0;max-width: 0;overflow: hidden;text-align: left;background-color: #f0f8ff;}#sk-0d7082fc-3178-43e8-a2da-7f65a45d9f2e div.sk-toggleable__content pre {margin: 0.2em;color: black;border-radius: 0.25em;background-color: #f0f8ff;}#sk-0d7082fc-3178-43e8-a2da-7f65a45d9f2e input.sk-toggleable__control:checked~div.sk-toggleable__content {max-height: 200px;max-width: 100%;overflow: auto;}#sk-0d7082fc-3178-43e8-a2da-7f65a45d9f2e div.sk-estimator input.sk-toggleable__control:checked~label.sk-toggleable__label {background-color: #d4ebff;}#sk-0d7082fc-3178-43e8-a2da-7f65a45d9f2e div.sk-label input.sk-toggleable__control:checked~label.sk-toggleable__label {background-color: #d4ebff;}#sk-0d7082fc-3178-43e8-a2da-7f65a45d9f2e input.sk-hidden--visually {border: 0;clip: rect(1px 1px 1px 1px);clip: rect(1px, 1px, 1px, 1px);height: 1px;margin: -1px;overflow: hidden;padding: 0;position: absolute;width: 1px;}#sk-0d7082fc-3178-43e8-a2da-7f65a45d9f2e div.sk-estimator {font-family: monospace;background-color: #f0f8ff;border: 1px dotted black;border-radius: 0.25em;box-sizing: border-box;margin-bottom: 0.5em;}#sk-0d7082fc-3178-43e8-a2da-7f65a45d9f2e div.sk-estimator:hover {background-color: #d4ebff;}#sk-0d7082fc-3178-43e8-a2da-7f65a45d9f2e div.sk-parallel-item::after {content: \"\";width: 100%;border-bottom: 1px solid gray;flex-grow: 1;}#sk-0d7082fc-3178-43e8-a2da-7f65a45d9f2e div.sk-label:hover label.sk-toggleable__label {background-color: #d4ebff;}#sk-0d7082fc-3178-43e8-a2da-7f65a45d9f2e div.sk-serial::before {content: \"\";position: absolute;border-left: 1px solid gray;box-sizing: border-box;top: 2em;bottom: 0;left: 50%;}#sk-0d7082fc-3178-43e8-a2da-7f65a45d9f2e div.sk-serial {display: flex;flex-direction: column;align-items: center;background-color: white;padding-right: 0.2em;padding-left: 0.2em;}#sk-0d7082fc-3178-43e8-a2da-7f65a45d9f2e div.sk-item {z-index: 1;}#sk-0d7082fc-3178-43e8-a2da-7f65a45d9f2e div.sk-parallel {display: flex;align-items: stretch;justify-content: center;background-color: white;}#sk-0d7082fc-3178-43e8-a2da-7f65a45d9f2e div.sk-parallel::before {content: \"\";position: absolute;border-left: 1px solid gray;box-sizing: border-box;top: 2em;bottom: 0;left: 50%;}#sk-0d7082fc-3178-43e8-a2da-7f65a45d9f2e div.sk-parallel-item {display: flex;flex-direction: column;position: relative;background-color: white;}#sk-0d7082fc-3178-43e8-a2da-7f65a45d9f2e div.sk-parallel-item:first-child::after {align-self: flex-end;width: 50%;}#sk-0d7082fc-3178-43e8-a2da-7f65a45d9f2e div.sk-parallel-item:last-child::after {align-self: flex-start;width: 50%;}#sk-0d7082fc-3178-43e8-a2da-7f65a45d9f2e div.sk-parallel-item:only-child::after {width: 0;}#sk-0d7082fc-3178-43e8-a2da-7f65a45d9f2e div.sk-dashed-wrapped {border: 1px dashed gray;margin: 0 0.4em 0.5em 0.4em;box-sizing: border-box;padding-bottom: 0.4em;background-color: white;position: relative;}#sk-0d7082fc-3178-43e8-a2da-7f65a45d9f2e div.sk-label label {font-family: monospace;font-weight: bold;background-color: white;display: inline-block;line-height: 1.2em;}#sk-0d7082fc-3178-43e8-a2da-7f65a45d9f2e div.sk-label-container {position: relative;z-index: 2;text-align: center;}#sk-0d7082fc-3178-43e8-a2da-7f65a45d9f2e div.sk-container {display: inline-block;position: relative;}</style><div id=\"sk-0d7082fc-3178-43e8-a2da-7f65a45d9f2e\" class\"sk-top-container\"><div class=\"sk-container\"><div class=\"sk-item sk-dashed-wrapped\"><div class=\"sk-label-container\"><div class=\"sk-label sk-toggleable\"><input class=\"sk-toggleable__control sk-hidden--visually\" id=\"9c182b16-5c42-4a25-a98b-d3b719c49202\" type=\"checkbox\" ><label class=\"sk-toggleable__label\" for=\"9c182b16-5c42-4a25-a98b-d3b719c49202\">VotingClassifier</label><div class=\"sk-toggleable__content\"><pre>VotingClassifier(estimators=[('dtc',\n",
       "                              Pipeline(steps=[('preprocessor',\n",
       "                                               ColumnTransformer(transformers=[('num',\n",
       "                                                                                Pipeline(steps=[('imputer',\n",
       "                                                                                                 SimpleImputer(strategy='median')),\n",
       "                                                                                                ('scaler',\n",
       "                                                                                                 StandardScaler())]),\n",
       "                                                                                <sklearn.compose._column_transformer.make_column_selector object at 0x0000025A0EFAC7C0>),\n",
       "                                                                               ('cat',\n",
       "                                                                                Pipeline(steps=[('imputer',\n",
       "                                                                                                 SimpleImputer(strategy='most_fre...\n",
       "                                                                                Pipeline(steps=[('imputer',\n",
       "                                                                                                 SimpleImputer(strategy='most_frequent')),\n",
       "                                                                                                ('encoder',\n",
       "                                                                                                 OneHotEncoder(handle_unknown='ignore'))]),\n",
       "                                                                                <sklearn.compose._column_transformer.make_column_selector object at 0x00000259F701E580>)])),\n",
       "                                              ('classifier',\n",
       "                                               RandomForestClassifier(min_samples_leaf=17,\n",
       "                                                                      min_samples_split=11,\n",
       "                                                                      n_estimators=618,\n",
       "                                                                      random_state=42))]))],\n",
       "                 n_jobs=4, voting='soft')</pre></div></div></div><div class=\"sk-parallel\"><div class=\"sk-parallel-item\"><div class=\"sk-item\"><div class=\"sk-label-container\"><div class=\"sk-label sk-toggleable\"><label>dtc</label></div></div><div class=\"sk-serial\"><div class=\"sk-item\"><div class=\"sk-serial\"><div class=\"sk-item sk-dashed-wrapped\"><div class=\"sk-label-container\"><div class=\"sk-label sk-toggleable\"><input class=\"sk-toggleable__control sk-hidden--visually\" id=\"58db46df-2391-46b8-9799-4fb431bd6adb\" type=\"checkbox\" ><label class=\"sk-toggleable__label\" for=\"58db46df-2391-46b8-9799-4fb431bd6adb\">preprocessor: ColumnTransformer</label><div class=\"sk-toggleable__content\"><pre>ColumnTransformer(transformers=[('num',\n",
       "                                 Pipeline(steps=[('imputer',\n",
       "                                                  SimpleImputer(strategy='median')),\n",
       "                                                 ('scaler', StandardScaler())]),\n",
       "                                 <sklearn.compose._column_transformer.make_column_selector object at 0x0000025A0EFAC7C0>),\n",
       "                                ('cat',\n",
       "                                 Pipeline(steps=[('imputer',\n",
       "                                                  SimpleImputer(strategy='most_frequent')),\n",
       "                                                 ('encoder',\n",
       "                                                  OneHotEncoder(handle_unknown='ignore'))]),\n",
       "                                 <sklearn.compose._column_transformer.make_column_selector object at 0x0000025A0EFD8700>)])</pre></div></div></div><div class=\"sk-parallel\"><div class=\"sk-parallel-item\"><div class=\"sk-item\"><div class=\"sk-label-container\"><div class=\"sk-label sk-toggleable\"><input class=\"sk-toggleable__control sk-hidden--visually\" id=\"191d8f20-0aaa-4e4c-abdb-f22ac7715ea8\" type=\"checkbox\" ><label class=\"sk-toggleable__label\" for=\"191d8f20-0aaa-4e4c-abdb-f22ac7715ea8\">num</label><div class=\"sk-toggleable__content\"><pre><sklearn.compose._column_transformer.make_column_selector object at 0x0000025A0EFAC7C0></pre></div></div></div><div class=\"sk-serial\"><div class=\"sk-item\"><div class=\"sk-serial\"><div class=\"sk-item\"><div class=\"sk-estimator sk-toggleable\"><input class=\"sk-toggleable__control sk-hidden--visually\" id=\"2c055fe4-c963-4aea-85e2-a1a76295c20d\" type=\"checkbox\" ><label class=\"sk-toggleable__label\" for=\"2c055fe4-c963-4aea-85e2-a1a76295c20d\">SimpleImputer</label><div class=\"sk-toggleable__content\"><pre>SimpleImputer(strategy='median')</pre></div></div></div><div class=\"sk-item\"><div class=\"sk-estimator sk-toggleable\"><input class=\"sk-toggleable__control sk-hidden--visually\" id=\"62b516d6-46ee-4032-b1c9-019e08403130\" type=\"checkbox\" ><label class=\"sk-toggleable__label\" for=\"62b516d6-46ee-4032-b1c9-019e08403130\">StandardScaler</label><div class=\"sk-toggleable__content\"><pre>StandardScaler()</pre></div></div></div></div></div></div></div></div><div class=\"sk-parallel-item\"><div class=\"sk-item\"><div class=\"sk-label-container\"><div class=\"sk-label sk-toggleable\"><input class=\"sk-toggleable__control sk-hidden--visually\" id=\"2ed1303f-c101-4a69-a936-37e74dc09478\" type=\"checkbox\" ><label class=\"sk-toggleable__label\" for=\"2ed1303f-c101-4a69-a936-37e74dc09478\">cat</label><div class=\"sk-toggleable__content\"><pre><sklearn.compose._column_transformer.make_column_selector object at 0x0000025A0EFD8700></pre></div></div></div><div class=\"sk-serial\"><div class=\"sk-item\"><div class=\"sk-serial\"><div class=\"sk-item\"><div class=\"sk-estimator sk-toggleable\"><input class=\"sk-toggleable__control sk-hidden--visually\" id=\"0bb081f8-cdf5-481d-ad13-e716ebaa7243\" type=\"checkbox\" ><label class=\"sk-toggleable__label\" for=\"0bb081f8-cdf5-481d-ad13-e716ebaa7243\">SimpleImputer</label><div class=\"sk-toggleable__content\"><pre>SimpleImputer(strategy='most_frequent')</pre></div></div></div><div class=\"sk-item\"><div class=\"sk-estimator sk-toggleable\"><input class=\"sk-toggleable__control sk-hidden--visually\" id=\"a977efa2-a164-46f8-a017-0423b0b09082\" type=\"checkbox\" ><label class=\"sk-toggleable__label\" for=\"a977efa2-a164-46f8-a017-0423b0b09082\">OneHotEncoder</label><div class=\"sk-toggleable__content\"><pre>OneHotEncoder(handle_unknown='ignore')</pre></div></div></div></div></div></div></div></div></div></div><div class=\"sk-item\"><div class=\"sk-estimator sk-toggleable\"><input class=\"sk-toggleable__control sk-hidden--visually\" id=\"cebd2bf4-5cd9-4475-966f-dd26c33cba43\" type=\"checkbox\" ><label class=\"sk-toggleable__label\" for=\"cebd2bf4-5cd9-4475-966f-dd26c33cba43\">DecisionTreeClassifier</label><div class=\"sk-toggleable__content\"><pre>DecisionTreeClassifier(ccp_alpha=0.001, max_depth=1, random_state=42)</pre></div></div></div></div></div></div></div></div><div class=\"sk-parallel-item\"><div class=\"sk-item\"><div class=\"sk-label-container\"><div class=\"sk-label sk-toggleable\"><label>rfc</label></div></div><div class=\"sk-serial\"><div class=\"sk-item\"><div class=\"sk-serial\"><div class=\"sk-item sk-dashed-wrapped\"><div class=\"sk-label-container\"><div class=\"sk-label sk-toggleable\"><input class=\"sk-toggleable__control sk-hidden--visually\" id=\"98913fc5-cdc6-438e-a1a5-3ffaa338af36\" type=\"checkbox\" ><label class=\"sk-toggleable__label\" for=\"98913fc5-cdc6-438e-a1a5-3ffaa338af36\">preprocessor: ColumnTransformer</label><div class=\"sk-toggleable__content\"><pre>ColumnTransformer(transformers=[('num',\n",
       "                                 Pipeline(steps=[('imputer',\n",
       "                                                  SimpleImputer(strategy='median')),\n",
       "                                                 ('scaler', StandardScaler())]),\n",
       "                                 <sklearn.compose._column_transformer.make_column_selector object at 0x00000259F128BD30>),\n",
       "                                ('cat',\n",
       "                                 Pipeline(steps=[('imputer',\n",
       "                                                  SimpleImputer(strategy='most_frequent')),\n",
       "                                                 ('encoder',\n",
       "                                                  OneHotEncoder(handle_unknown='ignore'))]),\n",
       "                                 <sklearn.compose._column_transformer.make_column_selector object at 0x00000259F701E580>)])</pre></div></div></div><div class=\"sk-parallel\"><div class=\"sk-parallel-item\"><div class=\"sk-item\"><div class=\"sk-label-container\"><div class=\"sk-label sk-toggleable\"><input class=\"sk-toggleable__control sk-hidden--visually\" id=\"1c5a3194-4917-4783-8c88-52a1dc9a0708\" type=\"checkbox\" ><label class=\"sk-toggleable__label\" for=\"1c5a3194-4917-4783-8c88-52a1dc9a0708\">num</label><div class=\"sk-toggleable__content\"><pre><sklearn.compose._column_transformer.make_column_selector object at 0x00000259F128BD30></pre></div></div></div><div class=\"sk-serial\"><div class=\"sk-item\"><div class=\"sk-serial\"><div class=\"sk-item\"><div class=\"sk-estimator sk-toggleable\"><input class=\"sk-toggleable__control sk-hidden--visually\" id=\"4500d6f5-a4c6-4949-81aa-20a43ad939f1\" type=\"checkbox\" ><label class=\"sk-toggleable__label\" for=\"4500d6f5-a4c6-4949-81aa-20a43ad939f1\">SimpleImputer</label><div class=\"sk-toggleable__content\"><pre>SimpleImputer(strategy='median')</pre></div></div></div><div class=\"sk-item\"><div class=\"sk-estimator sk-toggleable\"><input class=\"sk-toggleable__control sk-hidden--visually\" id=\"1e5ce259-51ee-4267-aed3-04ef823c71ee\" type=\"checkbox\" ><label class=\"sk-toggleable__label\" for=\"1e5ce259-51ee-4267-aed3-04ef823c71ee\">StandardScaler</label><div class=\"sk-toggleable__content\"><pre>StandardScaler()</pre></div></div></div></div></div></div></div></div><div class=\"sk-parallel-item\"><div class=\"sk-item\"><div class=\"sk-label-container\"><div class=\"sk-label sk-toggleable\"><input class=\"sk-toggleable__control sk-hidden--visually\" id=\"8dcd44a5-9684-40af-9858-57a0840c6601\" type=\"checkbox\" ><label class=\"sk-toggleable__label\" for=\"8dcd44a5-9684-40af-9858-57a0840c6601\">cat</label><div class=\"sk-toggleable__content\"><pre><sklearn.compose._column_transformer.make_column_selector object at 0x00000259F701E580></pre></div></div></div><div class=\"sk-serial\"><div class=\"sk-item\"><div class=\"sk-serial\"><div class=\"sk-item\"><div class=\"sk-estimator sk-toggleable\"><input class=\"sk-toggleable__control sk-hidden--visually\" id=\"367300cc-2080-4c4d-a53f-333c893bbb10\" type=\"checkbox\" ><label class=\"sk-toggleable__label\" for=\"367300cc-2080-4c4d-a53f-333c893bbb10\">SimpleImputer</label><div class=\"sk-toggleable__content\"><pre>SimpleImputer(strategy='most_frequent')</pre></div></div></div><div class=\"sk-item\"><div class=\"sk-estimator sk-toggleable\"><input class=\"sk-toggleable__control sk-hidden--visually\" id=\"f1591776-9538-4454-afb3-4620ec1f7953\" type=\"checkbox\" ><label class=\"sk-toggleable__label\" for=\"f1591776-9538-4454-afb3-4620ec1f7953\">OneHotEncoder</label><div class=\"sk-toggleable__content\"><pre>OneHotEncoder(handle_unknown='ignore')</pre></div></div></div></div></div></div></div></div></div></div><div class=\"sk-item\"><div class=\"sk-estimator sk-toggleable\"><input class=\"sk-toggleable__control sk-hidden--visually\" id=\"7cb5e3df-74c1-4431-9ac2-e9141b283a56\" type=\"checkbox\" ><label class=\"sk-toggleable__label\" for=\"7cb5e3df-74c1-4431-9ac2-e9141b283a56\">RandomForestClassifier</label><div class=\"sk-toggleable__content\"><pre>RandomForestClassifier(min_samples_leaf=17, min_samples_split=11,\n",
       "                       n_estimators=618, random_state=42)</pre></div></div></div></div></div></div></div></div></div></div></div></div>"
      ],
      "text/plain": [
       "VotingClassifier(estimators=[('dtc',\n",
       "                              Pipeline(steps=[('preprocessor',\n",
       "                                               ColumnTransformer(transformers=[('num',\n",
       "                                                                                Pipeline(steps=[('imputer',\n",
       "                                                                                                 SimpleImputer(strategy='median')),\n",
       "                                                                                                ('scaler',\n",
       "                                                                                                 StandardScaler())]),\n",
       "                                                                                <sklearn.compose._column_transformer.make_column_selector object at 0x0000025A0EFAC7C0>),\n",
       "                                                                               ('cat',\n",
       "                                                                                Pipeline(steps=[('imputer',\n",
       "                                                                                                 SimpleImputer(strategy='most_fre...\n",
       "                                                                                Pipeline(steps=[('imputer',\n",
       "                                                                                                 SimpleImputer(strategy='most_frequent')),\n",
       "                                                                                                ('encoder',\n",
       "                                                                                                 OneHotEncoder(handle_unknown='ignore'))]),\n",
       "                                                                                <sklearn.compose._column_transformer.make_column_selector object at 0x00000259F701E580>)])),\n",
       "                                              ('classifier',\n",
       "                                               RandomForestClassifier(min_samples_leaf=17,\n",
       "                                                                      min_samples_split=11,\n",
       "                                                                      n_estimators=618,\n",
       "                                                                      random_state=42))]))],\n",
       "                 n_jobs=4, voting='soft')"
      ]
     },
     "execution_count": 130,
     "metadata": {},
     "output_type": "execute_result"
    }
   ],
   "source": [
    "set_config(display=\"diagram\")\n",
    "VotingPredictor"
   ]
  },
  {
   "cell_type": "code",
   "execution_count": 131,
   "id": "figured-pennsylvania",
   "metadata": {},
   "outputs": [
    {
     "data": {
      "text/html": [
       "<style>#sk-30f2aa84-2217-4640-b4ae-dee70ceb2c03 {color: black;background-color: white;}#sk-30f2aa84-2217-4640-b4ae-dee70ceb2c03 pre{padding: 0;}#sk-30f2aa84-2217-4640-b4ae-dee70ceb2c03 div.sk-toggleable {background-color: white;}#sk-30f2aa84-2217-4640-b4ae-dee70ceb2c03 label.sk-toggleable__label {cursor: pointer;display: block;width: 100%;margin-bottom: 0;padding: 0.3em;box-sizing: border-box;text-align: center;}#sk-30f2aa84-2217-4640-b4ae-dee70ceb2c03 div.sk-toggleable__content {max-height: 0;max-width: 0;overflow: hidden;text-align: left;background-color: #f0f8ff;}#sk-30f2aa84-2217-4640-b4ae-dee70ceb2c03 div.sk-toggleable__content pre {margin: 0.2em;color: black;border-radius: 0.25em;background-color: #f0f8ff;}#sk-30f2aa84-2217-4640-b4ae-dee70ceb2c03 input.sk-toggleable__control:checked~div.sk-toggleable__content {max-height: 200px;max-width: 100%;overflow: auto;}#sk-30f2aa84-2217-4640-b4ae-dee70ceb2c03 div.sk-estimator input.sk-toggleable__control:checked~label.sk-toggleable__label {background-color: #d4ebff;}#sk-30f2aa84-2217-4640-b4ae-dee70ceb2c03 div.sk-label input.sk-toggleable__control:checked~label.sk-toggleable__label {background-color: #d4ebff;}#sk-30f2aa84-2217-4640-b4ae-dee70ceb2c03 input.sk-hidden--visually {border: 0;clip: rect(1px 1px 1px 1px);clip: rect(1px, 1px, 1px, 1px);height: 1px;margin: -1px;overflow: hidden;padding: 0;position: absolute;width: 1px;}#sk-30f2aa84-2217-4640-b4ae-dee70ceb2c03 div.sk-estimator {font-family: monospace;background-color: #f0f8ff;border: 1px dotted black;border-radius: 0.25em;box-sizing: border-box;margin-bottom: 0.5em;}#sk-30f2aa84-2217-4640-b4ae-dee70ceb2c03 div.sk-estimator:hover {background-color: #d4ebff;}#sk-30f2aa84-2217-4640-b4ae-dee70ceb2c03 div.sk-parallel-item::after {content: \"\";width: 100%;border-bottom: 1px solid gray;flex-grow: 1;}#sk-30f2aa84-2217-4640-b4ae-dee70ceb2c03 div.sk-label:hover label.sk-toggleable__label {background-color: #d4ebff;}#sk-30f2aa84-2217-4640-b4ae-dee70ceb2c03 div.sk-serial::before {content: \"\";position: absolute;border-left: 1px solid gray;box-sizing: border-box;top: 2em;bottom: 0;left: 50%;}#sk-30f2aa84-2217-4640-b4ae-dee70ceb2c03 div.sk-serial {display: flex;flex-direction: column;align-items: center;background-color: white;padding-right: 0.2em;padding-left: 0.2em;}#sk-30f2aa84-2217-4640-b4ae-dee70ceb2c03 div.sk-item {z-index: 1;}#sk-30f2aa84-2217-4640-b4ae-dee70ceb2c03 div.sk-parallel {display: flex;align-items: stretch;justify-content: center;background-color: white;}#sk-30f2aa84-2217-4640-b4ae-dee70ceb2c03 div.sk-parallel::before {content: \"\";position: absolute;border-left: 1px solid gray;box-sizing: border-box;top: 2em;bottom: 0;left: 50%;}#sk-30f2aa84-2217-4640-b4ae-dee70ceb2c03 div.sk-parallel-item {display: flex;flex-direction: column;position: relative;background-color: white;}#sk-30f2aa84-2217-4640-b4ae-dee70ceb2c03 div.sk-parallel-item:first-child::after {align-self: flex-end;width: 50%;}#sk-30f2aa84-2217-4640-b4ae-dee70ceb2c03 div.sk-parallel-item:last-child::after {align-self: flex-start;width: 50%;}#sk-30f2aa84-2217-4640-b4ae-dee70ceb2c03 div.sk-parallel-item:only-child::after {width: 0;}#sk-30f2aa84-2217-4640-b4ae-dee70ceb2c03 div.sk-dashed-wrapped {border: 1px dashed gray;margin: 0 0.4em 0.5em 0.4em;box-sizing: border-box;padding-bottom: 0.4em;background-color: white;position: relative;}#sk-30f2aa84-2217-4640-b4ae-dee70ceb2c03 div.sk-label label {font-family: monospace;font-weight: bold;background-color: white;display: inline-block;line-height: 1.2em;}#sk-30f2aa84-2217-4640-b4ae-dee70ceb2c03 div.sk-label-container {position: relative;z-index: 2;text-align: center;}#sk-30f2aa84-2217-4640-b4ae-dee70ceb2c03 div.sk-container {display: inline-block;position: relative;}</style><div id=\"sk-30f2aa84-2217-4640-b4ae-dee70ceb2c03\" class\"sk-top-container\"><div class=\"sk-container\"><div class=\"sk-item sk-dashed-wrapped\"><div class=\"sk-label-container\"><div class=\"sk-label sk-toggleable\"><input class=\"sk-toggleable__control sk-hidden--visually\" id=\"9ff75bda-cb41-4155-861d-ac10e3daf2fe\" type=\"checkbox\" ><label class=\"sk-toggleable__label\" for=\"9ff75bda-cb41-4155-861d-ac10e3daf2fe\">Pipeline</label><div class=\"sk-toggleable__content\"><pre>Pipeline(steps=[('preprocessor',\n",
       "                 ColumnTransformer(transformers=[('num',\n",
       "                                                  Pipeline(steps=[('imputer',\n",
       "                                                                   SimpleImputer(strategy='median')),\n",
       "                                                                  ('scaler',\n",
       "                                                                   StandardScaler())]),\n",
       "                                                  <sklearn.compose._column_transformer.make_column_selector object at 0x00000259F128BD30>),\n",
       "                                                 ('cat',\n",
       "                                                  Pipeline(steps=[('imputer',\n",
       "                                                                   SimpleImputer(strategy='most_frequent')),\n",
       "                                                                  ('encoder',\n",
       "                                                                   OneHotEncoder(handle_unknown='ignore'))]),\n",
       "                                                  <sklearn.compose._column_transformer.make_column_selector object at 0x00000259F701E580>)])),\n",
       "                ('classifier',\n",
       "                 RandomForestClassifier(min_samples_leaf=17,\n",
       "                                        min_samples_split=11, n_estimators=618,\n",
       "                                        random_state=42))])</pre></div></div></div><div class=\"sk-serial\"><div class=\"sk-item sk-dashed-wrapped\"><div class=\"sk-label-container\"><div class=\"sk-label sk-toggleable\"><input class=\"sk-toggleable__control sk-hidden--visually\" id=\"e71886e3-7ae9-49fc-8db7-192b47d24fb9\" type=\"checkbox\" ><label class=\"sk-toggleable__label\" for=\"e71886e3-7ae9-49fc-8db7-192b47d24fb9\">preprocessor: ColumnTransformer</label><div class=\"sk-toggleable__content\"><pre>ColumnTransformer(transformers=[('num',\n",
       "                                 Pipeline(steps=[('imputer',\n",
       "                                                  SimpleImputer(strategy='median')),\n",
       "                                                 ('scaler', StandardScaler())]),\n",
       "                                 <sklearn.compose._column_transformer.make_column_selector object at 0x00000259F128BD30>),\n",
       "                                ('cat',\n",
       "                                 Pipeline(steps=[('imputer',\n",
       "                                                  SimpleImputer(strategy='most_frequent')),\n",
       "                                                 ('encoder',\n",
       "                                                  OneHotEncoder(handle_unknown='ignore'))]),\n",
       "                                 <sklearn.compose._column_transformer.make_column_selector object at 0x00000259F701E580>)])</pre></div></div></div><div class=\"sk-parallel\"><div class=\"sk-parallel-item\"><div class=\"sk-item\"><div class=\"sk-label-container\"><div class=\"sk-label sk-toggleable\"><input class=\"sk-toggleable__control sk-hidden--visually\" id=\"93982844-62f5-4428-99f5-db4ca084d776\" type=\"checkbox\" ><label class=\"sk-toggleable__label\" for=\"93982844-62f5-4428-99f5-db4ca084d776\">num</label><div class=\"sk-toggleable__content\"><pre><sklearn.compose._column_transformer.make_column_selector object at 0x00000259F128BD30></pre></div></div></div><div class=\"sk-serial\"><div class=\"sk-item\"><div class=\"sk-serial\"><div class=\"sk-item\"><div class=\"sk-estimator sk-toggleable\"><input class=\"sk-toggleable__control sk-hidden--visually\" id=\"81d49257-7971-4f65-81f5-0bf1c1ef225b\" type=\"checkbox\" ><label class=\"sk-toggleable__label\" for=\"81d49257-7971-4f65-81f5-0bf1c1ef225b\">SimpleImputer</label><div class=\"sk-toggleable__content\"><pre>SimpleImputer(strategy='median')</pre></div></div></div><div class=\"sk-item\"><div class=\"sk-estimator sk-toggleable\"><input class=\"sk-toggleable__control sk-hidden--visually\" id=\"3ca3a489-aaa9-4630-9b37-565b591b7e98\" type=\"checkbox\" ><label class=\"sk-toggleable__label\" for=\"3ca3a489-aaa9-4630-9b37-565b591b7e98\">StandardScaler</label><div class=\"sk-toggleable__content\"><pre>StandardScaler()</pre></div></div></div></div></div></div></div></div><div class=\"sk-parallel-item\"><div class=\"sk-item\"><div class=\"sk-label-container\"><div class=\"sk-label sk-toggleable\"><input class=\"sk-toggleable__control sk-hidden--visually\" id=\"16ede79f-d155-41b5-b605-000456d2b9d0\" type=\"checkbox\" ><label class=\"sk-toggleable__label\" for=\"16ede79f-d155-41b5-b605-000456d2b9d0\">cat</label><div class=\"sk-toggleable__content\"><pre><sklearn.compose._column_transformer.make_column_selector object at 0x00000259F701E580></pre></div></div></div><div class=\"sk-serial\"><div class=\"sk-item\"><div class=\"sk-serial\"><div class=\"sk-item\"><div class=\"sk-estimator sk-toggleable\"><input class=\"sk-toggleable__control sk-hidden--visually\" id=\"50925092-56e5-4b9a-8aaf-f0c24d110bac\" type=\"checkbox\" ><label class=\"sk-toggleable__label\" for=\"50925092-56e5-4b9a-8aaf-f0c24d110bac\">SimpleImputer</label><div class=\"sk-toggleable__content\"><pre>SimpleImputer(strategy='most_frequent')</pre></div></div></div><div class=\"sk-item\"><div class=\"sk-estimator sk-toggleable\"><input class=\"sk-toggleable__control sk-hidden--visually\" id=\"6ea18083-8c82-448a-b2b1-904da799e192\" type=\"checkbox\" ><label class=\"sk-toggleable__label\" for=\"6ea18083-8c82-448a-b2b1-904da799e192\">OneHotEncoder</label><div class=\"sk-toggleable__content\"><pre>OneHotEncoder(handle_unknown='ignore')</pre></div></div></div></div></div></div></div></div></div></div><div class=\"sk-item\"><div class=\"sk-estimator sk-toggleable\"><input class=\"sk-toggleable__control sk-hidden--visually\" id=\"3eb0a706-a165-40a8-be08-26e78c60d1a9\" type=\"checkbox\" ><label class=\"sk-toggleable__label\" for=\"3eb0a706-a165-40a8-be08-26e78c60d1a9\">RandomForestClassifier</label><div class=\"sk-toggleable__content\"><pre>RandomForestClassifier(min_samples_leaf=17, min_samples_split=11,\n",
       "                       n_estimators=618, random_state=42)</pre></div></div></div></div></div></div></div>"
      ],
      "text/plain": [
       "Pipeline(steps=[('preprocessor',\n",
       "                 ColumnTransformer(transformers=[('num',\n",
       "                                                  Pipeline(steps=[('imputer',\n",
       "                                                                   SimpleImputer(strategy='median')),\n",
       "                                                                  ('scaler',\n",
       "                                                                   StandardScaler())]),\n",
       "                                                  <sklearn.compose._column_transformer.make_column_selector object at 0x00000259F128BD30>),\n",
       "                                                 ('cat',\n",
       "                                                  Pipeline(steps=[('imputer',\n",
       "                                                                   SimpleImputer(strategy='most_frequent')),\n",
       "                                                                  ('encoder',\n",
       "                                                                   OneHotEncoder(handle_unknown='ignore'))]),\n",
       "                                                  <sklearn.compose._column_transformer.make_column_selector object at 0x00000259F701E580>)])),\n",
       "                ('classifier',\n",
       "                 RandomForestClassifier(min_samples_leaf=17,\n",
       "                                        min_samples_split=11, n_estimators=618,\n",
       "                                        random_state=42))])"
      ]
     },
     "execution_count": 131,
     "metadata": {},
     "output_type": "execute_result"
    }
   ],
   "source": [
    "modelRFC"
   ]
  },
  {
   "cell_type": "code",
   "execution_count": 117,
   "id": "regular-circus",
   "metadata": {},
   "outputs": [
    {
     "name": "stdout",
     "output_type": "stream",
     "text": [
      "trd:(891, 11), ted: (418, 10)\n",
      "X_train:(891, 4), X_test: (418, 4)\n",
      "131\n",
      "Index(['PassengerId', 'Survived'], dtype='object')\n",
      "check: 131\n"
     ]
    }
   ],
   "source": [
    "# Применение модели к тестовым данным и запись в файл для Kaggle\n",
    "print(f'trd:{trd.shape}, ted: {ted.shape}')\n",
    "\n",
    "X_train = trd[subset_feature]\n",
    "label_train = trd.Survived\n",
    "passengerId = ted.PassengerId\n",
    "X_test = ted[subset_feature]\n",
    "\n",
    "print(f'X_train:{X_train.shape}, X_test: {X_test.shape}')\n",
    "\n",
    "# RFC ############################\n",
    "modelRFC.fit(X_train, label_train)\n",
    "label_pred_RFC = modelRFC.predict(X_test)\n",
    "\n",
    "RFC_model = pd.DataFrame({'PassengerId':passengerId,'Survived':label_pred_RFC}).set_index('PassengerId')\n",
    "RFC_model.Survived = RFC_model.Survived.astype(int)\n",
    "print(RFC_model.Survived.sum())\n",
    "\n",
    "RFC_model.to_csv('kaggle_titanic_RFC_submission.csv', index_label='PassengerId')\n",
    "submission_RFC= pd.read_csv('kaggle_titanic_RFC_submission.csv')\n",
    "print(submission_RFC.columns)\n",
    "print('check:', submission_RFC.Survived.sum())\n",
    "\n",
    "# DTC ############################\n",
    "# modelDTC.fit(X_train, label_train)\n",
    "# label_pred_DTC = modelDTC.predict(X_test)\n",
    "\n",
    "# DTC_model = pd.DataFrame({'PassengerId':passengerId,'Survived':label_pred_DTC}).set_index('PassengerId')\n",
    "# DTC_model.Survived = DTC_model.Survived.astype(int)\n",
    "# print(DTC_model.Survived.sum())\n",
    "\n",
    "# DTC_model.to_csv('kaggle_titanic_DTC_submission.csv', index_label='PassengerId')\n",
    "# submission_DTC= pd.read_csv('kaggle_titanic_DTC_submission.csv')\n",
    "# print(submission_DTC.columns)\n",
    "# print('check:', submission_DTC.Survived.sum())\n",
    "\n",
    "# # VC ############################\n",
    "# VotingPredictor.fit(X_train, label_train)\n",
    "# label_pred_Voting = VotingPredictor.predict(X_test)\n",
    "\n",
    "# Voting_Model = pd.DataFrame({\"PassengerId\": passengerId,\"Survived\": label_pred_Voting}).set_index('PassengerId')\n",
    "# Voting_Model.Survived = Voting_Model.Survived.astype(int)\n",
    "# print(Voting_Model.Survived.sum())\n",
    "\n",
    "# Voting_Model.to_csv('Kaggle_titanic_MIX_submission.csv', index_label='PassengerId')\n",
    "# submission_MIX = pd.read_csv('Kaggle_titanic_Mix_submission.csv')\n",
    "# print(submission_MIX.columns)\n",
    "# print('check:', submission_MIX.Survived.sum())"
   ]
  },
  {
   "cell_type": "code",
   "execution_count": null,
   "id": "joint-participation",
   "metadata": {},
   "outputs": [],
   "source": []
  },
  {
   "cell_type": "code",
   "execution_count": null,
   "id": "expired-baking",
   "metadata": {},
   "outputs": [],
   "source": []
  },
  {
   "cell_type": "code",
   "execution_count": null,
   "id": "going-smell",
   "metadata": {},
   "outputs": [],
   "source": []
  },
  {
   "cell_type": "code",
   "execution_count": null,
   "id": "documented-module",
   "metadata": {},
   "outputs": [],
   "source": []
  }
 ],
 "metadata": {
  "kernelspec": {
   "display_name": "Python 3",
   "language": "python",
   "name": "python3"
  },
  "language_info": {
   "codemirror_mode": {
    "name": "ipython",
    "version": 3
   },
   "file_extension": ".py",
   "mimetype": "text/x-python",
   "name": "python",
   "nbconvert_exporter": "python",
   "pygments_lexer": "ipython3",
   "version": "3.8.8"
  }
 },
 "nbformat": 4,
 "nbformat_minor": 5
}
